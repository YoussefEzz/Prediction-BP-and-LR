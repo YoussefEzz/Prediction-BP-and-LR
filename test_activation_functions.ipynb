{
 "cells": [
  {
   "cell_type": "code",
   "execution_count": 9,
   "metadata": {},
   "outputs": [
    {
     "name": "stdout",
     "output_type": "stream",
     "text": [
      "[-1.  0.  1.  2.  3.  4.]\n",
      "[1. 1. 1. 1. 1. 1.]\n"
     ]
    }
   ],
   "source": [
    "import Utility as util\n",
    "\n",
    "input = [-1,0,1,2,3,4]\n",
    "\n",
    "#test linear \n",
    "print((util.linear.g(input)))\n",
    "print(util.linear.g_diff(input))"
   ]
  },
  {
   "cell_type": "code",
   "execution_count": 3,
   "metadata": {},
   "outputs": [
    {
     "name": "stdout",
     "output_type": "stream",
     "text": [
      "[0, 0, 1, 2, 3, 4]\n",
      "[0, 0, 1, 1, 1, 1]\n"
     ]
    }
   ],
   "source": [
    "import Utility as util\n",
    "#test Relu \n",
    "input = [-1,0,1,2,3,4]\n",
    "print(util.relu.g(input))\n",
    "print(util.relu.g_diff(input))"
   ]
  },
  {
   "cell_type": "code",
   "execution_count": 1,
   "metadata": {},
   "outputs": [
    {
     "name": "stdout",
     "output_type": "stream",
     "text": [
      "[0.26894142 0.37754067 0.47502081 0.5        0.52497919 0.62245933\n",
      " 0.73105858]\n",
      "[0.19661193 0.23500371 0.24937604 0.25       0.24937604 0.23500371\n",
      " 0.19661193]\n"
     ]
    }
   ],
   "source": [
    "import Utility as util\n",
    "import numpy as np\n",
    "#test Sigmoid \n",
    "\n",
    "input = [-1, -0.5,-0.1, 0,0.1, 0.5, 1]\n",
    "# print(np.ones(len(input)) - input)\n",
    "\n",
    "print(util.sigmoid.g(input))\n",
    "print(util.sigmoid.g_diff(input))"
   ]
  },
  {
   "cell_type": "code",
   "execution_count": 2,
   "metadata": {},
   "outputs": [
    {
     "name": "stdout",
     "output_type": "stream",
     "text": [
      "[-0.76159416 -0.46211716 -0.09966799  0.          0.09966799  0.46211716\n",
      "  0.76159416]\n",
      "[0.41997434 0.78644773 0.99006629 1.         0.99006629 0.78644773\n",
      " 0.41997434]\n"
     ]
    }
   ],
   "source": [
    "import Utility as util\n",
    "import numpy as np\n",
    "#test tanh \n",
    "\n",
    "input = [-1, -0.5,-0.1, 0,0.1, 0.5, 1]\n",
    "# print(np.ones(len(input)) - input)\n",
    "\n",
    "print(util.tanh.g(input))\n",
    "print(util.tanh.g_diff(input))"
   ]
  }
 ],
 "metadata": {
  "kernelspec": {
   "display_name": "Python 3",
   "language": "python",
   "name": "python3"
  },
  "language_info": {
   "codemirror_mode": {
    "name": "ipython",
    "version": 3
   },
   "file_extension": ".py",
   "mimetype": "text/x-python",
   "name": "python",
   "nbconvert_exporter": "python",
   "pygments_lexer": "ipython3",
   "version": "3.10.10"
  }
 },
 "nbformat": 4,
 "nbformat_minor": 2
}
