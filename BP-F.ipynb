{
 "cells": [
  {
   "cell_type": "code",
   "execution_count": 10,
   "metadata": {},
   "outputs": [
    {
     "data": {
      "text/html": [
       "<div>\n",
       "<style scoped>\n",
       "    .dataframe tbody tr th:only-of-type {\n",
       "        vertical-align: middle;\n",
       "    }\n",
       "\n",
       "    .dataframe tbody tr th {\n",
       "        vertical-align: top;\n",
       "    }\n",
       "\n",
       "    .dataframe thead th {\n",
       "        text-align: right;\n",
       "    }\n",
       "</style>\n",
       "<table border=\"1\" class=\"dataframe\">\n",
       "  <thead>\n",
       "    <tr style=\"text-align: right;\">\n",
       "      <th></th>\n",
       "      <th>#height_over_sea_level</th>\n",
       "      <th>fall</th>\n",
       "      <th>net_fall</th>\n",
       "      <th>flow</th>\n",
       "      <th>power_of_hydroelectrical_turbine</th>\n",
       "    </tr>\n",
       "  </thead>\n",
       "  <tbody>\n",
       "    <tr>\n",
       "      <th>0</th>\n",
       "      <td>0.8462</td>\n",
       "      <td>0.8212</td>\n",
       "      <td>0.8488</td>\n",
       "      <td>0.0833</td>\n",
       "      <td>0.1500</td>\n",
       "    </tr>\n",
       "    <tr>\n",
       "      <th>1</th>\n",
       "      <td>0.9487</td>\n",
       "      <td>0.9226</td>\n",
       "      <td>0.9468</td>\n",
       "      <td>0.0833</td>\n",
       "      <td>0.1627</td>\n",
       "    </tr>\n",
       "    <tr>\n",
       "      <th>2</th>\n",
       "      <td>0.2821</td>\n",
       "      <td>0.2803</td>\n",
       "      <td>0.2764</td>\n",
       "      <td>0.5833</td>\n",
       "      <td>0.3712</td>\n",
       "    </tr>\n",
       "    <tr>\n",
       "      <th>3</th>\n",
       "      <td>0.2051</td>\n",
       "      <td>0.2042</td>\n",
       "      <td>0.2028</td>\n",
       "      <td>0.5833</td>\n",
       "      <td>0.3304</td>\n",
       "    </tr>\n",
       "    <tr>\n",
       "      <th>4</th>\n",
       "      <td>1.0000</td>\n",
       "      <td>0.9614</td>\n",
       "      <td>0.9413</td>\n",
       "      <td>0.8333</td>\n",
       "      <td>0.8948</td>\n",
       "    </tr>\n",
       "  </tbody>\n",
       "</table>\n",
       "</div>"
      ],
      "text/plain": [
       "   #height_over_sea_level    fall  net_fall    flow  \\\n",
       "0                  0.8462  0.8212    0.8488  0.0833   \n",
       "1                  0.9487  0.9226    0.9468  0.0833   \n",
       "2                  0.2821  0.2803    0.2764  0.5833   \n",
       "3                  0.2051  0.2042    0.2028  0.5833   \n",
       "4                  1.0000  0.9614    0.9413  0.8333   \n",
       "\n",
       "   power_of_hydroelectrical_turbine  \n",
       "0                            0.1500  \n",
       "1                            0.1627  \n",
       "2                            0.3712  \n",
       "3                            0.3304  \n",
       "4                            0.8948  "
      ]
     },
     "execution_count": 10,
     "metadata": {},
     "output_type": "execute_result"
    }
   ],
   "source": [
    "import pandas as pd\n",
    "\n",
    "\n",
    "#read and parse the .csv features file for A1-turbine normalized data\n",
    "df = pd.read_csv('Normalized Data/A1-turbine_normalized.txt', delimiter = '\\t')\n",
    "df.head()\n",
    "\n"
   ]
  },
  {
   "cell_type": "code",
   "execution_count": 11,
   "metadata": {},
   "outputs": [
    {
     "name": "stdout",
     "output_type": "stream",
     "text": [
      "<class 'pandas.core.frame.DataFrame'>\n",
      "RangeIndex: 451 entries, 0 to 450\n",
      "Data columns (total 5 columns):\n",
      " #   Column                            Non-Null Count  Dtype  \n",
      "---  ------                            --------------  -----  \n",
      " 0   #height_over_sea_level            451 non-null    float64\n",
      " 1   fall                              451 non-null    float64\n",
      " 2   net_fall                          451 non-null    float64\n",
      " 3   flow                              451 non-null    float64\n",
      " 4   power_of_hydroelectrical_turbine  451 non-null    float64\n",
      "dtypes: float64(5)\n",
      "memory usage: 17.7 KB\n"
     ]
    }
   ],
   "source": [
    "df.info()"
   ]
  },
  {
   "cell_type": "code",
   "execution_count": 12,
   "metadata": {},
   "outputs": [
    {
     "data": {
      "text/html": [
       "<div>\n",
       "<style scoped>\n",
       "    .dataframe tbody tr th:only-of-type {\n",
       "        vertical-align: middle;\n",
       "    }\n",
       "\n",
       "    .dataframe tbody tr th {\n",
       "        vertical-align: top;\n",
       "    }\n",
       "\n",
       "    .dataframe thead th {\n",
       "        text-align: right;\n",
       "    }\n",
       "</style>\n",
       "<table border=\"1\" class=\"dataframe\">\n",
       "  <thead>\n",
       "    <tr style=\"text-align: right;\">\n",
       "      <th></th>\n",
       "      <th>#height_over_sea_level</th>\n",
       "      <th>fall</th>\n",
       "      <th>net_fall</th>\n",
       "      <th>flow</th>\n",
       "      <th>power_of_hydroelectrical_turbine</th>\n",
       "    </tr>\n",
       "  </thead>\n",
       "  <tbody>\n",
       "    <tr>\n",
       "      <th>count</th>\n",
       "      <td>451.000000</td>\n",
       "      <td>451.000000</td>\n",
       "      <td>451.000000</td>\n",
       "      <td>451.000000</td>\n",
       "      <td>451.000000</td>\n",
       "    </tr>\n",
       "    <tr>\n",
       "      <th>mean</th>\n",
       "      <td>0.535221</td>\n",
       "      <td>0.516427</td>\n",
       "      <td>0.523289</td>\n",
       "      <td>0.486881</td>\n",
       "      <td>0.392635</td>\n",
       "    </tr>\n",
       "    <tr>\n",
       "      <th>std</th>\n",
       "      <td>0.284318</td>\n",
       "      <td>0.272583</td>\n",
       "      <td>0.271364</td>\n",
       "      <td>0.297155</td>\n",
       "      <td>0.250617</td>\n",
       "    </tr>\n",
       "    <tr>\n",
       "      <th>min</th>\n",
       "      <td>0.000000</td>\n",
       "      <td>0.000000</td>\n",
       "      <td>0.000000</td>\n",
       "      <td>0.000000</td>\n",
       "      <td>0.000000</td>\n",
       "    </tr>\n",
       "    <tr>\n",
       "      <th>25%</th>\n",
       "      <td>0.307700</td>\n",
       "      <td>0.306350</td>\n",
       "      <td>0.302450</td>\n",
       "      <td>0.250000</td>\n",
       "      <td>0.185400</td>\n",
       "    </tr>\n",
       "    <tr>\n",
       "      <th>50%</th>\n",
       "      <td>0.538500</td>\n",
       "      <td>0.508600</td>\n",
       "      <td>0.521500</td>\n",
       "      <td>0.500000</td>\n",
       "      <td>0.360500</td>\n",
       "    </tr>\n",
       "    <tr>\n",
       "      <th>75%</th>\n",
       "      <td>0.794900</td>\n",
       "      <td>0.757850</td>\n",
       "      <td>0.760800</td>\n",
       "      <td>0.750000</td>\n",
       "      <td>0.577500</td>\n",
       "    </tr>\n",
       "    <tr>\n",
       "      <th>max</th>\n",
       "      <td>1.000000</td>\n",
       "      <td>1.000000</td>\n",
       "      <td>1.000000</td>\n",
       "      <td>1.000000</td>\n",
       "      <td>1.000000</td>\n",
       "    </tr>\n",
       "  </tbody>\n",
       "</table>\n",
       "</div>"
      ],
      "text/plain": [
       "       #height_over_sea_level        fall    net_fall        flow  \\\n",
       "count              451.000000  451.000000  451.000000  451.000000   \n",
       "mean                 0.535221    0.516427    0.523289    0.486881   \n",
       "std                  0.284318    0.272583    0.271364    0.297155   \n",
       "min                  0.000000    0.000000    0.000000    0.000000   \n",
       "25%                  0.307700    0.306350    0.302450    0.250000   \n",
       "50%                  0.538500    0.508600    0.521500    0.500000   \n",
       "75%                  0.794900    0.757850    0.760800    0.750000   \n",
       "max                  1.000000    1.000000    1.000000    1.000000   \n",
       "\n",
       "       power_of_hydroelectrical_turbine  \n",
       "count                        451.000000  \n",
       "mean                           0.392635  \n",
       "std                            0.250617  \n",
       "min                            0.000000  \n",
       "25%                            0.185400  \n",
       "50%                            0.360500  \n",
       "75%                            0.577500  \n",
       "max                            1.000000  "
      ]
     },
     "execution_count": 12,
     "metadata": {},
     "output_type": "execute_result"
    }
   ],
   "source": [
    "df.describe()"
   ]
  },
  {
   "cell_type": "code",
   "execution_count": 13,
   "metadata": {},
   "outputs": [
    {
     "name": "stdout",
     "output_type": "stream",
     "text": [
      "(451, 4)\n",
      "(451,)\n"
     ]
    }
   ],
   "source": [
    "columns = df.shape[1]\n",
    "\n",
    "# construct an array of arrays size (451, 4) for all features input values\n",
    "inputcolumns = df.columns[0 : 4]\n",
    "features = df[inputcolumns].values\n",
    "\n",
    "# construct an array of size (451) for all features target values\n",
    "outputcolumn = df.columns[4]\n",
    "targets = df[outputcolumn].values\n",
    "\n",
    "print(features.shape)\n",
    "print(targets.shape)\n"
   ]
  },
  {
   "cell_type": "code",
   "execution_count": 14,
   "metadata": {},
   "outputs": [
    {
     "name": "stdout",
     "output_type": "stream",
     "text": [
      "(383, 4)\n",
      "(68, 4)\n",
      "(383,)\n",
      "(68,)\n"
     ]
    }
   ],
   "source": [
    "# divide the set into train and test set \n",
    "# use the first 85% for training and validation, and the remaining 15% for test\n",
    "from sklearn.model_selection import train_test_split\n",
    "x_train, x_test, y_train, y_test = train_test_split(features, targets, test_size = 0.15, random_state= 42)\n",
    "\n",
    "print(x_train.shape)\n",
    "print(x_test.shape)\n",
    "print(y_train.shape)\n",
    "print(y_test.shape)\n"
   ]
  },
  {
   "cell_type": "code",
   "execution_count": 15,
   "metadata": {},
   "outputs": [
    {
     "name": "stdout",
     "output_type": "stream",
     "text": [
      "(325, 4)\n",
      "(58, 4)\n",
      "(325,)\n",
      "(58,)\n"
     ]
    }
   ],
   "source": [
    "# divide the train set into train and validation set \n",
    "# use the first 85% for training , and the remaining 15% for validation\n",
    "from sklearn.model_selection import train_test_split\n",
    "x_train, x_validation, y_train, y_validation = train_test_split(x_train, y_train, test_size = 0.15, random_state= 42)\n",
    "\n",
    "print(x_train.shape)\n",
    "print(x_validation.shape)\n",
    "print(y_train.shape)\n",
    "print(y_validation.shape)"
   ]
  },
  {
   "cell_type": "code",
   "execution_count": 16,
   "metadata": {},
   "outputs": [
    {
     "name": "stdout",
     "output_type": "stream",
     "text": [
      "Epoch 1/100\n",
      "Epoch 2/100\n",
      "Epoch 3/100\n",
      "Epoch 4/100\n",
      "Epoch 5/100\n",
      "Epoch 6/100\n",
      "Epoch 7/100\n",
      "Epoch 8/100\n",
      "Epoch 9/100\n",
      "Epoch 10/100\n",
      "Epoch 11/100\n",
      "Epoch 12/100\n",
      "Epoch 13/100\n",
      "Epoch 14/100\n",
      "Epoch 15/100\n",
      "Epoch 16/100\n",
      "Epoch 17/100\n",
      "Epoch 18/100\n",
      "Epoch 19/100\n",
      "Epoch 20/100\n",
      "Epoch 21/100\n",
      "Epoch 22/100\n",
      "Epoch 23/100\n",
      "Epoch 24/100\n",
      "Epoch 25/100\n",
      "Epoch 26/100\n",
      "Epoch 27/100\n",
      "Epoch 28/100\n",
      "Epoch 29/100\n",
      "Epoch 30/100\n",
      "Epoch 31/100\n",
      "Epoch 32/100\n",
      "Epoch 33/100\n",
      "Epoch 34/100\n",
      "Epoch 35/100\n",
      "Epoch 36/100\n",
      "Epoch 37/100\n",
      "Epoch 38/100\n",
      "Epoch 39/100\n",
      "Epoch 40/100\n",
      "Epoch 41/100\n",
      "Epoch 42/100\n",
      "Epoch 43/100\n",
      "Epoch 44/100\n",
      "Epoch 45/100\n",
      "Epoch 46/100\n",
      "Epoch 47/100\n",
      "Epoch 48/100\n",
      "Epoch 49/100\n",
      "Epoch 50/100\n",
      "Epoch 51/100\n",
      "Epoch 52/100\n",
      "Epoch 53/100\n",
      "Epoch 54/100\n",
      "Epoch 55/100\n",
      "Epoch 56/100\n",
      "Epoch 57/100\n",
      "Epoch 58/100\n",
      "Epoch 59/100\n",
      "Epoch 60/100\n",
      "Epoch 61/100\n",
      "Epoch 62/100\n",
      "Epoch 63/100\n",
      "Epoch 64/100\n",
      "Epoch 65/100\n",
      "Epoch 66/100\n",
      "Epoch 67/100\n",
      "Epoch 68/100\n",
      "Epoch 69/100\n",
      "Epoch 70/100\n",
      "Epoch 71/100\n",
      "Epoch 72/100\n",
      "Epoch 73/100\n",
      "Epoch 74/100\n",
      "Epoch 75/100\n",
      "Epoch 76/100\n",
      "Epoch 77/100\n",
      "Epoch 78/100\n",
      "Epoch 79/100\n",
      "Epoch 80/100\n",
      "Epoch 81/100\n",
      "Epoch 82/100\n",
      "Epoch 83/100\n",
      "Epoch 84/100\n",
      "Epoch 85/100\n",
      "Epoch 86/100\n",
      "Epoch 87/100\n",
      "Epoch 88/100\n",
      "Epoch 89/100\n",
      "Epoch 90/100\n",
      "Epoch 91/100\n",
      "Epoch 92/100\n",
      "Epoch 93/100\n",
      "Epoch 94/100\n",
      "Epoch 95/100\n",
      "Epoch 96/100\n",
      "Epoch 97/100\n",
      "Epoch 98/100\n",
      "Epoch 99/100\n",
      "Epoch 100/100\n",
      "[<tf.Variable 'dense_3/kernel:0' shape=(4, 9) dtype=float32, numpy=\n",
      "array([[-0.52415633, -0.5459882 , -0.21965423, -0.43726265, -0.7841832 ,\n",
      "        -0.15210183, -0.46945387, -0.23236631, -0.34640607],\n",
      "       [ 0.63992155,  0.2779407 , -0.00658386,  0.06188088,  0.22221163,\n",
      "         0.63728744,  0.63411814,  0.4090519 ,  0.05016102],\n",
      "       [-0.28491205, -0.32409963, -0.21114816, -0.38480693, -0.06560577,\n",
      "         0.3341923 ,  0.46860778,  0.31364793,  0.2222746 ],\n",
      "       [ 0.45116347, -1.1503043 , -0.49471086, -0.29375896, -0.0485399 ,\n",
      "         0.8591067 ,  0.73459536, -0.6405647 , -0.7839349 ]],\n",
      "      dtype=float32)>, <tf.Variable 'dense_3/bias:0' shape=(9,) dtype=float32, numpy=\n",
      "array([-0.01640798,  0.26832438,  0.00358762,  0.00957092, -0.00624476,\n",
      "       -0.11439881, -0.09837458, -0.0008823 ,  0.02950628], dtype=float32)>]\n",
      "[<tf.Variable 'dense_4/kernel:0' shape=(9, 5) dtype=float32, numpy=\n",
      "array([[ 0.35374412,  0.286067  , -0.48430142, -0.18261735,  0.68025136],\n",
      "       [-1.1562538 ,  0.8429357 , -0.2639935 ,  0.7336612 ,  0.08761144],\n",
      "       [ 0.0250994 ,  0.7446442 ,  0.11017496,  0.32776728, -0.11405772],\n",
      "       [-0.2805238 ,  0.05477058, -0.37613696, -0.37397438, -0.74018204],\n",
      "       [-0.3004445 ,  0.40729693, -0.56810206, -0.01504648,  0.50544435],\n",
      "       [ 0.32776153, -0.5730525 ,  0.1707136 , -0.6786607 , -0.04840384],\n",
      "       [ 0.89038575,  0.33384502,  0.83310723, -0.13061143,  0.5414307 ],\n",
      "       [-0.32592985, -0.3189932 , -0.3374694 ,  0.2942069 ,  0.48511758],\n",
      "       [-0.29535222, -0.30307665, -0.4714148 ,  0.75093126,  0.17858014]],\n",
      "      dtype=float32)>, <tf.Variable 'dense_4/bias:0' shape=(5,) dtype=float32, numpy=\n",
      "array([-0.06184161, -0.03860634,  0.04024089, -0.0074427 , -0.0161318 ],\n",
      "      dtype=float32)>]\n",
      "[<tf.Variable 'dense_5/kernel:0' shape=(5, 1) dtype=float32, numpy=\n",
      "array([[ 1.6230285],\n",
      "       [-0.7195518],\n",
      "       [ 0.8408059],\n",
      "       [-1.3354597],\n",
      "       [ 0.5241113]], dtype=float32)>, <tf.Variable 'dense_5/bias:0' shape=(1,) dtype=float32, numpy=array([-0.02351743], dtype=float32)>]\n"
     ]
    }
   ],
   "source": [
    "import tensorflow as tf\n",
    "\n",
    "model = tf.keras.models.Sequential([\n",
    "    tf.keras.layers.Dense(9, activation=\"sigmoid\"),\n",
    "    tf.keras.layers.Dense(5, activation=\"sigmoid\"),\n",
    "    tf.keras.layers.Dense(1),\n",
    "])\n",
    "\n",
    "sgd = tf.keras.optimizers.SGD(learning_rate = 0.01, momentum = 0.9)\n",
    "model.compile(optimizer=sgd, loss = \"mse\", metrics=[\"mae\"])\n",
    "history = model.fit(x_train, y_train,validation_data=(x_validation, y_validation), epochs=100, verbose=\"2\")\n",
    "\n",
    "\n",
    "for i in range(0 , len(model.layers)):\n",
    "    weights = model.layers[i].weights\n",
    "    print(weights)"
   ]
  },
  {
   "cell_type": "code",
   "execution_count": 17,
   "metadata": {},
   "outputs": [
    {
     "data": {
      "image/png": "[encoded data removed]",
      "text/plain": [
       "<Figure size 640x480 with 1 Axes>"
      ]
     },
     "metadata": {},
     "output_type": "display_data"
    }
   ],
   "source": [
    "import matplotlib.pyplot as plt\n",
    "\n",
    "# Plot the evolution of the training and validation loss\n",
    "plt.plot(history.history['loss'], label='Training Loss')\n",
    "plt.plot(history.history['val_loss'], label='Validation Loss')\n",
    "plt.xlabel('Epoch')\n",
    "plt.ylabel('Loss')\n",
    "plt.title('Training and Validation Loss')\n",
    "plt.legend()\n",
    "plt.show()"
   ]
  },
  {
   "cell_type": "code",
   "execution_count": 18,
   "metadata": {},
   "outputs": [
    {
     "name": "stdout",
     "output_type": "stream",
     "text": [
      "3/3 [==============================] - 0s 3ms/step\n",
      "11/11 [==============================] - 0s 2ms/step\n",
      "R2 score:  0.9203517700784529\n",
      "MSE:  0.0044888000064974435\n",
      "MAE:  0.04966623177414431\n",
      "R2 score:  0.9106984921411222\n",
      "MSE:  0.005527504366707944\n",
      "MAE:  0.054747978939643276\n"
     ]
    }
   ],
   "source": [
    "y_pred_test = model.predict(x_test)\n",
    "y_pred_train = model.predict(x_train)\n",
    "\n",
    "#print(y_pred_test)\n",
    "\n",
    "from sklearn.metrics import r2_score, mean_squared_error, mean_absolute_error\n",
    "\n",
    "print(\"R2 score: \", r2_score(y_test, y_pred_test))\n",
    "print(\"MSE: \", mean_squared_error(y_test, y_pred_test))\n",
    "print(\"MAE: \", mean_absolute_error(y_test, y_pred_test))\n",
    "\n",
    "print(\"R2 score: \", r2_score(y_train, y_pred_train))\n",
    "print(\"MSE: \", mean_squared_error(y_train, y_pred_train))\n",
    "print(\"MAE: \", mean_absolute_error(y_train, y_pred_train))"
   ]
  },
  {
   "cell_type": "code",
   "execution_count": 19,
   "metadata": {},
   "outputs": [
    {
     "data": {
      "text/plain": [
       "<matplotlib.collections.PathCollection at 0x219e92f4ee0>"
      ]
     },
     "execution_count": 19,
     "metadata": {},
     "output_type": "execute_result"
    },
    {
     "data": {
      "image/png": "[encoded data removed]",
      "text/plain": [
       "<Figure size 640x480 with 1 Axes>"
      ]
     },
     "metadata": {},
     "output_type": "display_data"
    }
   ],
   "source": [
    "# scatterplot of predicted vs actual values\n",
    "from matplotlib import pyplot as plt\n",
    "plt.scatter(y_test, y_pred_test, color = 'red')\n",
    "plt.scatter(y_train, y_pred_train, color = 'blue')\n"
   ]
  }
 ],
 "metadata": {
  "kernelspec": {
   "display_name": "Python 3",
   "language": "python",
   "name": "python3"
  },
  "language_info": {
   "codemirror_mode": {
    "name": "ipython",
    "version": 3
   },
   "file_extension": ".py",
   "mimetype": "text/x-python",
   "name": "python",
   "nbconvert_exporter": "python",
   "pygments_lexer": "ipython3",
   "version": "3.10.10"
  }
 },
 "nbformat": 4,
 "nbformat_minor": 2
}
