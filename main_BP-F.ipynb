{
 "cells": [
  {
   "cell_type": "code",
   "execution_count": 1,
   "metadata": {},
   "outputs": [
    {
     "data": {
      "text/html": [
       "<div>\n",
       "<style scoped>\n",
       "    .dataframe tbody tr th:only-of-type {\n",
       "        vertical-align: middle;\n",
       "    }\n",
       "\n",
       "    .dataframe tbody tr th {\n",
       "        vertical-align: top;\n",
       "    }\n",
       "\n",
       "    .dataframe thead th {\n",
       "        text-align: right;\n",
       "    }\n",
       "</style>\n",
       "<table border=\"1\" class=\"dataframe\">\n",
       "  <thead>\n",
       "    <tr style=\"text-align: right;\">\n",
       "      <th></th>\n",
       "      <th>#height_over_sea_level\\tfall\\tnet_fall\\tflow\\tpower_of_hydroelectrical_turbine</th>\n",
       "    </tr>\n",
       "  </thead>\n",
       "  <tbody>\n",
       "    <tr>\n",
       "      <th>0</th>\n",
       "      <td>0.8462\\t0.8212\\t0.8488\\t0.0833\\t0.15</td>\n",
       "    </tr>\n",
       "    <tr>\n",
       "      <th>1</th>\n",
       "      <td>0.9487\\t0.9226\\t0.9468\\t0.0833\\t0.1627</td>\n",
       "    </tr>\n",
       "    <tr>\n",
       "      <th>2</th>\n",
       "      <td>0.2821\\t0.2803\\t0.2764\\t0.5833\\t0.3712</td>\n",
       "    </tr>\n",
       "    <tr>\n",
       "      <th>3</th>\n",
       "      <td>0.2051\\t0.2042\\t0.2028\\t0.5833\\t0.3304</td>\n",
       "    </tr>\n",
       "    <tr>\n",
       "      <th>4</th>\n",
       "      <td>1.0\\t0.9614\\t0.9413\\t0.8333\\t0.8948</td>\n",
       "    </tr>\n",
       "  </tbody>\n",
       "</table>\n",
       "</div>"
      ],
      "text/plain": [
       "  #height_over_sea_level\\tfall\\tnet_fall\\tflow\\tpower_of_hydroelectrical_turbine\n",
       "0               0.8462\\t0.8212\\t0.8488\\t0.0833\\t0.15                            \n",
       "1             0.9487\\t0.9226\\t0.9468\\t0.0833\\t0.1627                            \n",
       "2             0.2821\\t0.2803\\t0.2764\\t0.5833\\t0.3712                            \n",
       "3             0.2051\\t0.2042\\t0.2028\\t0.5833\\t0.3304                            \n",
       "4                1.0\\t0.9614\\t0.9413\\t0.8333\\t0.8948                            "
      ]
     },
     "execution_count": 1,
     "metadata": {},
     "output_type": "execute_result"
    }
   ],
   "source": [
    "import pandas as pd\n",
    "import numpy as np\n",
    "import Utility as util\n",
    "\n",
    "\n",
    "#read and parse the .csv features file for A1-turbine normalized data\n",
    "df = pd.read_csv('Normalized Data/A1-turbine_normalized.txt', delimiter = '\\t')\n",
    "df.head()\n",
    "\n"
   ]
  },
  {
   "cell_type": "code",
   "execution_count": 79,
   "metadata": {},
   "outputs": [
    {
     "name": "stdout",
     "output_type": "stream",
     "text": [
      "<class 'pandas.core.frame.DataFrame'>\n",
      "RangeIndex: 451 entries, 0 to 450\n",
      "Data columns (total 5 columns):\n",
      " #   Column                            Non-Null Count  Dtype  \n",
      "---  ------                            --------------  -----  \n",
      " 0   #height_over_sea_level            451 non-null    float64\n",
      " 1   fall                              451 non-null    float64\n",
      " 2   net_fall                          451 non-null    float64\n",
      " 3   flow                              451 non-null    float64\n",
      " 4   power_of_hydroelectrical_turbine  451 non-null    float64\n",
      "dtypes: float64(5)\n",
      "memory usage: 17.7 KB\n"
     ]
    }
   ],
   "source": [
    "df.info()"
   ]
  },
  {
   "cell_type": "code",
   "execution_count": 80,
   "metadata": {},
   "outputs": [
    {
     "data": {
      "text/html": [
       "<div>\n",
       "<style scoped>\n",
       "    .dataframe tbody tr th:only-of-type {\n",
       "        vertical-align: middle;\n",
       "    }\n",
       "\n",
       "    .dataframe tbody tr th {\n",
       "        vertical-align: top;\n",
       "    }\n",
       "\n",
       "    .dataframe thead th {\n",
       "        text-align: right;\n",
       "    }\n",
       "</style>\n",
       "<table border=\"1\" class=\"dataframe\">\n",
       "  <thead>\n",
       "    <tr style=\"text-align: right;\">\n",
       "      <th></th>\n",
       "      <th>#height_over_sea_level</th>\n",
       "      <th>fall</th>\n",
       "      <th>net_fall</th>\n",
       "      <th>flow</th>\n",
       "      <th>power_of_hydroelectrical_turbine</th>\n",
       "    </tr>\n",
       "  </thead>\n",
       "  <tbody>\n",
       "    <tr>\n",
       "      <th>count</th>\n",
       "      <td>451.000000</td>\n",
       "      <td>451.000000</td>\n",
       "      <td>451.000000</td>\n",
       "      <td>451.000000</td>\n",
       "      <td>451.000000</td>\n",
       "    </tr>\n",
       "    <tr>\n",
       "      <th>mean</th>\n",
       "      <td>0.535221</td>\n",
       "      <td>0.516427</td>\n",
       "      <td>0.523289</td>\n",
       "      <td>0.486881</td>\n",
       "      <td>0.392635</td>\n",
       "    </tr>\n",
       "    <tr>\n",
       "      <th>std</th>\n",
       "      <td>0.284318</td>\n",
       "      <td>0.272583</td>\n",
       "      <td>0.271364</td>\n",
       "      <td>0.297155</td>\n",
       "      <td>0.250617</td>\n",
       "    </tr>\n",
       "    <tr>\n",
       "      <th>min</th>\n",
       "      <td>0.000000</td>\n",
       "      <td>0.000000</td>\n",
       "      <td>0.000000</td>\n",
       "      <td>0.000000</td>\n",
       "      <td>0.000000</td>\n",
       "    </tr>\n",
       "    <tr>\n",
       "      <th>25%</th>\n",
       "      <td>0.307700</td>\n",
       "      <td>0.306350</td>\n",
       "      <td>0.302450</td>\n",
       "      <td>0.250000</td>\n",
       "      <td>0.185400</td>\n",
       "    </tr>\n",
       "    <tr>\n",
       "      <th>50%</th>\n",
       "      <td>0.538500</td>\n",
       "      <td>0.508600</td>\n",
       "      <td>0.521500</td>\n",
       "      <td>0.500000</td>\n",
       "      <td>0.360500</td>\n",
       "    </tr>\n",
       "    <tr>\n",
       "      <th>75%</th>\n",
       "      <td>0.794900</td>\n",
       "      <td>0.757850</td>\n",
       "      <td>0.760800</td>\n",
       "      <td>0.750000</td>\n",
       "      <td>0.577500</td>\n",
       "    </tr>\n",
       "    <tr>\n",
       "      <th>max</th>\n",
       "      <td>1.000000</td>\n",
       "      <td>1.000000</td>\n",
       "      <td>1.000000</td>\n",
       "      <td>1.000000</td>\n",
       "      <td>1.000000</td>\n",
       "    </tr>\n",
       "  </tbody>\n",
       "</table>\n",
       "</div>"
      ],
      "text/plain": [
       "       #height_over_sea_level        fall    net_fall        flow  \\\n",
       "count              451.000000  451.000000  451.000000  451.000000   \n",
       "mean                 0.535221    0.516427    0.523289    0.486881   \n",
       "std                  0.284318    0.272583    0.271364    0.297155   \n",
       "min                  0.000000    0.000000    0.000000    0.000000   \n",
       "25%                  0.307700    0.306350    0.302450    0.250000   \n",
       "50%                  0.538500    0.508600    0.521500    0.500000   \n",
       "75%                  0.794900    0.757850    0.760800    0.750000   \n",
       "max                  1.000000    1.000000    1.000000    1.000000   \n",
       "\n",
       "       power_of_hydroelectrical_turbine  \n",
       "count                        451.000000  \n",
       "mean                           0.392635  \n",
       "std                            0.250617  \n",
       "min                            0.000000  \n",
       "25%                            0.185400  \n",
       "50%                            0.360500  \n",
       "75%                            0.577500  \n",
       "max                            1.000000  "
      ]
     },
     "execution_count": 80,
     "metadata": {},
     "output_type": "execute_result"
    }
   ],
   "source": [
    "df.describe()"
   ]
  },
  {
   "cell_type": "code",
   "execution_count": 81,
   "metadata": {},
   "outputs": [
    {
     "name": "stdout",
     "output_type": "stream",
     "text": [
      "(451, 4)\n",
      "(451,)\n"
     ]
    }
   ],
   "source": [
    "columns = df.shape[1]\n",
    "\n",
    "# construct an array of arrays size (451, 4) for all features input values\n",
    "inputcolumns = df.columns[0 : 4]\n",
    "features = df[inputcolumns].values\n",
    "\n",
    "# construct an array of size (451) for all features target values\n",
    "outputcolumn = df.columns[4]\n",
    "targets = df[outputcolumn].values\n",
    "\n",
    "print(features.shape)\n",
    "print(targets.shape)\n"
   ]
  },
  {
   "cell_type": "code",
   "execution_count": 82,
   "metadata": {},
   "outputs": [
    {
     "name": "stdout",
     "output_type": "stream",
     "text": [
      "(383, 4)\n",
      "(68, 4)\n",
      "(383,)\n",
      "(68,)\n"
     ]
    }
   ],
   "source": [
    "\n",
    "from sklearn.model_selection import train_test_split\n",
    "x_train, x_test, y_train, y_test = train_test_split(features, targets, test_size = 0.15, random_state= 42)\n",
    "\n",
    "print(x_train.shape)\n",
    "print(x_test.shape)\n",
    "print(y_train.shape)\n",
    "print(y_test.shape)\n"
   ]
  },
  {
   "cell_type": "code",
   "execution_count": 83,
   "metadata": {},
   "outputs": [
    {
     "name": "stderr",
     "output_type": "stream",
     "text": [
      "WARNING:absl:`lr` is deprecated in Keras optimizer, please use `learning_rate` or use the legacy optimizer, e.g.,tf.keras.optimizers.legacy.SGD.\n"
     ]
    },
    {
     "name": "stdout",
     "output_type": "stream",
     "text": [
      "Epoch 1/10\n",
      "Epoch 2/10\n",
      "Epoch 3/10\n",
      "Epoch 4/10\n",
      "Epoch 5/10\n",
      "Epoch 6/10\n",
      "Epoch 7/10\n",
      "Epoch 8/10\n",
      "Epoch 9/10\n",
      "Epoch 10/10\n",
      "<keras.src.engine.sequential.Sequential object at 0x0000020CFFE81A80>\n"
     ]
    }
   ],
   "source": [
    "import tensorflow as tf\n",
    "\n",
    "model = tf.keras.models.Sequential([\n",
    "    tf.keras.layers.Dense(4, activation=\"linear\"),\n",
    "    tf.keras.layers.Dense(9, activation=\"linear\"),\n",
    "    tf.keras.layers.Dense(5, activation=\"linear\"),\n",
    "    tf.keras.layers.Dense(1),\n",
    "])\n",
    "\n",
    "sgd = tf.keras.optimizers.SGD(lr = 0.01, momentum = 0.9)\n",
    "model.compile(optimizer=sgd, loss = \"mse\", metrics=[\"mae\"])\n",
    "model.fit(x_train, y_train, epochs=10, verbose=\"2\")\n",
    "\n",
    "print(model)"
   ]
  },
  {
   "cell_type": "code",
   "execution_count": 84,
   "metadata": {},
   "outputs": [
    {
     "name": "stdout",
     "output_type": "stream",
     "text": [
      "3/3 [==============================] - 0s 3ms/step\n",
      "12/12 [==============================] - 0s 3ms/step\n",
      "R2 score:  0.9671399696309295\n",
      "MSE:  0.0018519194297158693\n",
      "MAE:  0.030745938530476653\n",
      "R2 score:  0.967100074422771\n",
      "MSE:  0.0020773519901301973\n",
      "MAE:  0.03575059087648404\n"
     ]
    }
   ],
   "source": [
    "y_pred_test = model.predict(x_test)\n",
    "y_pred_train = model.predict(x_train)\n",
    "\n",
    "#print(y_pred_test)\n",
    "\n",
    "from sklearn.metrics import r2_score, mean_squared_error, mean_absolute_error\n",
    "\n",
    "print(\"R2 score: \", r2_score(y_test, y_pred_test))\n",
    "print(\"MSE: \", mean_squared_error(y_test, y_pred_test))\n",
    "print(\"MAE: \", mean_absolute_error(y_test, y_pred_test))\n",
    "\n",
    "print(\"R2 score: \", r2_score(y_train, y_pred_train))\n",
    "print(\"MSE: \", mean_squared_error(y_train, y_pred_train))\n",
    "print(\"MAE: \", mean_absolute_error(y_train, y_pred_train))"
   ]
  },
  {
   "cell_type": "code",
   "execution_count": 85,
   "metadata": {},
   "outputs": [
    {
     "data": {
      "text/plain": [
       "<matplotlib.collections.PathCollection at 0x20c84fff8b0>"
      ]
     },
     "execution_count": 85,
     "metadata": {},
     "output_type": "execute_result"
    },
    {
     "data": {
      "image/png": "[encoded data removed]",
      "text/plain": [
       "<Figure size 640x480 with 1 Axes>"
      ]
     },
     "metadata": {},
     "output_type": "display_data"
    }
   ],
   "source": [
    "# scatterplot of predicted vs actual values\n",
    "from matplotlib import pyplot as plt\n",
    "plt.scatter(y_test, y_pred_test, color = 'red')\n",
    "plt.scatter(y_train, y_pred_train, color = 'blue')\n"
   ]
  }
 ],
 "metadata": {
  "kernelspec": {
   "display_name": "Python 3",
   "language": "python",
   "name": "python3"
  },
  "language_info": {
   "codemirror_mode": {
    "name": "ipython",
    "version": 3
   },
   "file_extension": ".py",
   "mimetype": "text/x-python",
   "name": "python",
   "nbconvert_exporter": "python",
   "pygments_lexer": "ipython3",
   "version": "3.10.10"
  }
 },
 "nbformat": 4,
 "nbformat_minor": 2
}
