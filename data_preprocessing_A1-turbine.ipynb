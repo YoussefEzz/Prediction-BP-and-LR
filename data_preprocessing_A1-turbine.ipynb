{
 "cells": [
  {
   "cell_type": "code",
   "execution_count": 61,
   "metadata": {},
   "outputs": [
    {
     "data": {
      "text/html": [
       "<div>\n",
       "<style scoped>\n",
       "    .dataframe tbody tr th:only-of-type {\n",
       "        vertical-align: middle;\n",
       "    }\n",
       "\n",
       "    .dataframe tbody tr th {\n",
       "        vertical-align: top;\n",
       "    }\n",
       "\n",
       "    .dataframe thead th {\n",
       "        text-align: right;\n",
       "    }\n",
       "</style>\n",
       "<table border=\"1\" class=\"dataframe\">\n",
       "  <thead>\n",
       "    <tr style=\"text-align: right;\">\n",
       "      <th></th>\n",
       "      <th>#height_over_sea_level</th>\n",
       "      <th>fall</th>\n",
       "      <th>net_fall</th>\n",
       "      <th>flow</th>\n",
       "      <th>power_of_hydroelectrical_turbine</th>\n",
       "    </tr>\n",
       "  </thead>\n",
       "  <tbody>\n",
       "    <tr>\n",
       "      <th>0</th>\n",
       "      <td>624.0</td>\n",
       "      <td>89.16</td>\n",
       "      <td>89.765</td>\n",
       "      <td>3.5</td>\n",
       "      <td>2512.85</td>\n",
       "    </tr>\n",
       "    <tr>\n",
       "      <th>1</th>\n",
       "      <td>628.0</td>\n",
       "      <td>93.16</td>\n",
       "      <td>93.765</td>\n",
       "      <td>3.5</td>\n",
       "      <td>2583.79</td>\n",
       "    </tr>\n",
       "    <tr>\n",
       "      <th>2</th>\n",
       "      <td>602.0</td>\n",
       "      <td>67.84</td>\n",
       "      <td>66.415</td>\n",
       "      <td>6.5</td>\n",
       "      <td>3748.77</td>\n",
       "    </tr>\n",
       "    <tr>\n",
       "      <th>3</th>\n",
       "      <td>599.0</td>\n",
       "      <td>64.84</td>\n",
       "      <td>63.415</td>\n",
       "      <td>6.5</td>\n",
       "      <td>3520.65</td>\n",
       "    </tr>\n",
       "    <tr>\n",
       "      <th>4</th>\n",
       "      <td>630.0</td>\n",
       "      <td>94.69</td>\n",
       "      <td>93.540</td>\n",
       "      <td>8.0</td>\n",
       "      <td>6673.84</td>\n",
       "    </tr>\n",
       "  </tbody>\n",
       "</table>\n",
       "</div>"
      ],
      "text/plain": [
       "   #height_over_sea_level   fall  net_fall  flow  \\\n",
       "0                   624.0  89.16    89.765   3.5   \n",
       "1                   628.0  93.16    93.765   3.5   \n",
       "2                   602.0  67.84    66.415   6.5   \n",
       "3                   599.0  64.84    63.415   6.5   \n",
       "4                   630.0  94.69    93.540   8.0   \n",
       "\n",
       "   power_of_hydroelectrical_turbine  \n",
       "0                           2512.85  \n",
       "1                           2583.79  \n",
       "2                           3748.77  \n",
       "3                           3520.65  \n",
       "4                           6673.84  "
      ]
     },
     "execution_count": 61,
     "metadata": {},
     "output_type": "execute_result"
    }
   ],
   "source": [
    "#read the information of A1-synthetic.txt and load it into a dataframe to preprocess it\n",
    "import pandas as pd\n",
    "import numpy as np\n",
    "\n",
    "\n",
    "#read the .txt file \n",
    "df = pd.read_table('Data/A1-turbine.txt', delimiter = '\\t')\n",
    "df.head()\n"
   ]
  },
  {
   "cell_type": "code",
   "execution_count": 62,
   "metadata": {},
   "outputs": [
    {
     "name": "stdout",
     "output_type": "stream",
     "text": [
      "(451, 5)\n",
      "Index(['#height_over_sea_level', 'fall', 'net_fall', 'flow',\n",
      "       'power_of_hydroelectrical_turbine'],\n",
      "      dtype='object')\n",
      "#height_over_sea_level\n",
      "0      624.0\n",
      "1      628.0\n",
      "2      602.0\n",
      "3      599.0\n",
      "4      630.0\n",
      "       ...  \n",
      "446    605.0\n",
      "447    621.0\n",
      "448    607.0\n",
      "449    612.0\n",
      "450    610.0\n",
      "Name: #height_over_sea_level, Length: 451, dtype: float64\n",
      "591.0\n"
     ]
    }
   ],
   "source": [
    "#print the number of rows and columns\n",
    "print(df.shape)\n",
    "print(df.columns)\n",
    "print(df.columns[0])\n",
    "print(df[df.columns[0]])\n",
    "print(min(df[df.columns[0]]))"
   ]
  },
  {
   "cell_type": "code",
   "execution_count": 69,
   "metadata": {},
   "outputs": [
    {
     "name": "stdout",
     "output_type": "stream",
     "text": [
      "     #height_over_sea_level      fall  net_fall      flow  \\\n",
      "0                  0.846154  0.821157  0.848756  0.083333   \n",
      "1                  0.948718  0.922628  0.946807  0.083333   \n",
      "2                  0.282051  0.280315  0.276382  0.583333   \n",
      "3                  0.205128  0.204211  0.202843  0.583333   \n",
      "4                  1.000000  0.961441  0.941292  0.833333   \n",
      "..                      ...       ...       ...       ...   \n",
      "446                0.358974  0.363014  0.377742  0.166667   \n",
      "447                0.769231  0.730594  0.703518  1.000000   \n",
      "448                0.410256  0.377981  0.377497  0.833333   \n",
      "449                0.538462  0.508625  0.521510  0.583333   \n",
      "450                0.487179  0.462963  0.495772  0.250000   \n",
      "\n",
      "     power_of_hydroelectrical_turbine  \n",
      "0                             2512.85  \n",
      "1                             2583.79  \n",
      "2                             3748.77  \n",
      "3                             3520.65  \n",
      "4                             6673.84  \n",
      "..                                ...  \n",
      "446                           2337.68  \n",
      "447                           6451.24  \n",
      "448                           4806.83  \n",
      "449                           4450.58  \n",
      "450                           2893.53  \n",
      "\n",
      "[451 rows x 5 columns]\n"
     ]
    }
   ],
   "source": [
    "#preprocess input 4 columns to scale it's values from 0 to 1\n",
    "columns = df.shape[1]\n",
    "inputcolumns = df.columns[0 : 4]\n",
    "smin = 0\n",
    "smax = 1\n",
    "df_normalized = df.copy()\n",
    "for inp_col in inputcolumns:\n",
    "    column_values = df[inp_col]\n",
    "    #print(column_values)\n",
    "    xmin = min(column_values)\n",
    "    xmax = max(column_values)\n",
    "    #print( smin + ((smax - smin) / (xmax - xmin) ) * (df[inp_col] - xmin) )\n",
    "    df_normalized[inp_col] = smin + ((smax - smin) / (xmax - xmin) ) * (df[inp_col] - xmin)\n",
    "\n",
    "print(df_normalized) "
   ]
  },
  {
   "cell_type": "code",
   "execution_count": 70,
   "metadata": {},
   "outputs": [
    {
     "name": "stdout",
     "output_type": "stream",
     "text": [
      "     #height_over_sea_level      fall  net_fall      flow  \\\n",
      "0                  0.846154  0.821157  0.848756  0.083333   \n",
      "1                  0.948718  0.922628  0.946807  0.083333   \n",
      "2                  0.282051  0.280315  0.276382  0.583333   \n",
      "3                  0.205128  0.204211  0.202843  0.583333   \n",
      "4                  1.000000  0.961441  0.941292  0.833333   \n",
      "..                      ...       ...       ...       ...   \n",
      "446                0.358974  0.363014  0.377742  0.166667   \n",
      "447                0.769231  0.730594  0.703518  1.000000   \n",
      "448                0.410256  0.377981  0.377497  0.833333   \n",
      "449                0.538462  0.508625  0.521510  0.583333   \n",
      "450                0.487179  0.462963  0.495772  0.250000   \n",
      "\n",
      "     power_of_hydroelectrical_turbine  \n",
      "0                            0.219965  \n",
      "1                            0.230125  \n",
      "2                            0.396961  \n",
      "3                            0.364292  \n",
      "4                            0.815860  \n",
      "..                                ...  \n",
      "446                          0.194879  \n",
      "447                          0.783981  \n",
      "448                          0.548486  \n",
      "449                          0.497467  \n",
      "450                          0.274483  \n",
      "\n",
      "[451 rows x 5 columns]\n"
     ]
    }
   ],
   "source": [
    "#preprocess output 5th column to scale it's values from 0.1 to 0.9\n",
    "columns = df.shape[1]\n",
    "outputcolumn = df.columns[4]\n",
    "smin = 0.1\n",
    "smax = 0.9\n",
    "\n",
    "column_values = df[outputcolumn]\n",
    "xmin = min(column_values)\n",
    "xmax = max(column_values)\n",
    "df_normalized[outputcolumn] = smin + ((smax - smin) / (xmax - xmin) ) * (df[outputcolumn] - xmin)\n",
    "print(df_normalized) "
   ]
  },
  {
   "cell_type": "code",
   "execution_count": 71,
   "metadata": {},
   "outputs": [],
   "source": [
    "#write normalized data into output text file\n",
    "# Write DataFrame to a text file\n",
    "with open('Normalized Data/A1-turbine_normalized.txt', 'w') as file:\n",
    "    file.write(df_normalized.to_string(index=False))"
   ]
  }
 ],
 "metadata": {
  "kernelspec": {
   "display_name": "Python 3",
   "language": "python",
   "name": "python3"
  },
  "language_info": {
   "codemirror_mode": {
    "name": "ipython",
    "version": 3
   },
   "file_extension": ".py",
   "mimetype": "text/x-python",
   "name": "python",
   "nbconvert_exporter": "python",
   "pygments_lexer": "ipython3",
   "version": "3.10.10"
  }
 },
 "nbformat": 4,
 "nbformat_minor": 2
}
