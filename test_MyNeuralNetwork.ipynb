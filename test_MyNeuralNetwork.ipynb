{
 "cells": [
  {
   "cell_type": "code",
   "execution_count": 2,
   "metadata": {},
   "outputs": [
    {
     "name": "stdout",
     "output_type": "stream",
     "text": [
      "matrices of weights with random values\n",
      "[array([[0.39402298]]), array([[0.68822065, 0.95698789, 0.03407494, 0.29222751],\n",
      "       [0.21953864, 0.85606515, 0.84286063, 0.02366022],\n",
      "       [0.30891708, 0.48772578, 0.75061832, 0.48033336],\n",
      "       [0.78131407, 0.2383594 , 0.28668023, 0.37520793],\n",
      "       [0.79614279, 0.69312432, 0.73924907, 0.55845361],\n",
      "       [0.82351927, 0.26864156, 0.84560607, 0.63895156],\n",
      "       [0.48246527, 0.46022828, 0.64577108, 0.98376799],\n",
      "       [0.49852105, 0.01069646, 0.65490498, 0.27022212],\n",
      "       [0.6733082 , 0.45661774, 0.06662126, 0.17964892]]), array([[0.81136553, 0.65904482, 0.58862   , 0.07545231, 0.98965776,\n",
      "        0.19984949, 0.14963992, 0.30491485, 0.25448954],\n",
      "       [0.86165667, 0.39978686, 0.90713851, 0.31936024, 0.82250001,\n",
      "        0.15128992, 0.96313013, 0.62027553, 0.64992854],\n",
      "       [0.12319685, 0.71613281, 0.78509192, 0.35210099, 0.82188898,\n",
      "        0.46260566, 0.02213105, 0.0767303 , 0.67126182],\n",
      "       [0.31241633, 0.58951222, 0.01758005, 0.59189489, 0.21870796,\n",
      "        0.60060547, 0.95276974, 0.40052915, 0.5208023 ],\n",
      "       [0.91722566, 0.99267311, 0.28393611, 0.46137966, 0.37924602,\n",
      "        0.41621402, 0.08442672, 0.01659081, 0.31669331]]), array([[0.65006006, 0.09285184, 0.37515399, 0.92433999, 0.35116028]])]\n",
      "matrices of weights \n",
      "[array([[1.]]), array([[1., 1., 1., 1.],\n",
      "       [1., 1., 1., 1.],\n",
      "       [1., 1., 1., 1.],\n",
      "       [1., 1., 1., 1.],\n",
      "       [1., 1., 1., 1.],\n",
      "       [1., 1., 1., 1.],\n",
      "       [1., 1., 1., 1.],\n",
      "       [1., 1., 1., 1.],\n",
      "       [1., 1., 1., 1.]]), array([[1., 1., 1., 1., 1., 1., 1., 1., 1.],\n",
      "       [1., 1., 1., 1., 1., 1., 1., 1., 1.],\n",
      "       [1., 1., 1., 1., 1., 1., 1., 1., 1.],\n",
      "       [1., 1., 1., 1., 1., 1., 1., 1., 1.],\n",
      "       [1., 1., 1., 1., 1., 1., 1., 1., 1.]]), array([[1., 1., 1., 1., 1.]])]\n",
      "matrix of weights between input layer and first hidden layer\n",
      "[[1. 1. 1. 1.]\n",
      " [1. 1. 1. 1.]\n",
      " [1. 1. 1. 1.]\n",
      " [1. 1. 1. 1.]\n",
      " [1. 1. 1. 1.]\n",
      " [1. 1. 1. 1.]\n",
      " [1. 1. 1. 1.]\n",
      " [1. 1. 1. 1.]\n",
      " [1. 1. 1. 1.]]\n",
      "weights between input layer and first neuron in first hidden layer\n",
      "[1. 1. 1. 1.]\n",
      "the weight between unit 3 in input layer and unit 0 in first hidden layer\n",
      "1.0\n",
      "each matrix of weights in a new line\n",
      "[[1.]]\n",
      "[[1. 1. 1. 1.]\n",
      " [1. 1. 1. 1.]\n",
      " [1. 1. 1. 1.]\n",
      " [1. 1. 1. 1.]\n",
      " [1. 1. 1. 1.]\n",
      " [1. 1. 1. 1.]\n",
      " [1. 1. 1. 1.]\n",
      " [1. 1. 1. 1.]\n",
      " [1. 1. 1. 1.]]\n",
      "[[1. 1. 1. 1. 1. 1. 1. 1. 1.]\n",
      " [1. 1. 1. 1. 1. 1. 1. 1. 1.]\n",
      " [1. 1. 1. 1. 1. 1. 1. 1. 1.]\n",
      " [1. 1. 1. 1. 1. 1. 1. 1. 1.]\n",
      " [1. 1. 1. 1. 1. 1. 1. 1. 1.]]\n",
      "[[1. 1. 1. 1. 1.]]\n"
     ]
    }
   ],
   "source": [
    "import MyNeuralNetwork as NeuralNetwork\n",
    "import activation_functions as activation\n",
    "\n",
    "# initiaize neural network\n",
    "\n",
    "# layers include input layer + hidden layers + output layer\n",
    "layers = [4,9,5,1]\n",
    "nn = NeuralNetwork.MyNeuralNetwork(layers,  1, 0.01, 0.9, activation.linear, 0.2)\n",
    "nn.initialize_weights()\n",
    "print(\"matrices of weights with random values\")\n",
    "print(nn.w)\n",
    "\n",
    "nn.initialize_weights_for_test()\n",
    "# matrices are initialized to ones for testing the implementation of neural network \n",
    "print(\"matrices of weights \")\n",
    "print(nn.w)\n",
    "\n",
    "print(\"matrix of weights between input layer and first hidden layer\")\n",
    "print(nn.w[1])\n",
    "\n",
    "print(\"weights between input layer and first neuron in first hidden layer\")\n",
    "print(nn.w[1][0])\n",
    "\n",
    "print(\"the weight between unit 3 in input layer and unit 0 in first hidden layer\")\n",
    "print(nn.w[1][0,3])\n",
    "\n",
    "print(\"each matrix of weights in a new line\")\n",
    "for item in nn.w:\n",
    "    print(item)"
   ]
  },
  {
   "cell_type": "code",
   "execution_count": 3,
   "metadata": {},
   "outputs": [
    {
     "name": "stdout",
     "output_type": "stream",
     "text": [
      "[180.]\n",
      "[array([1, 1, 1, 1]), array([4., 4., 4., 4., 4., 4., 4., 4., 4.]), array([36., 36., 36., 36., 36.]), array([180.])]\n",
      "[array([1, 1, 1, 1]), array([4., 4., 4., 4., 4., 4., 4., 4., 4.]), array([36., 36., 36., 36., 36.]), array([180.])]\n"
     ]
    }
   ],
   "source": [
    "# testing feedforward\n",
    "\n",
    "import numpy as np\n",
    "\n",
    "input = [1,1,1,1] \n",
    "o = nn.feedforward(np.array(input))\n",
    "\n",
    "print(o)\n",
    "\n",
    "print(nn.h)\n",
    "\n",
    "print(nn.xi)"
   ]
  },
  {
   "cell_type": "code",
   "execution_count": 4,
   "metadata": {},
   "outputs": [
    {
     "name": "stdout",
     "output_type": "stream",
     "text": [
      "[array([0., 0., 0., 0.]), array([150., 150., 150., 150., 150., 150., 150., 150., 150.]), array([30., 30., 30., 30., 30.]), array([30.])]\n"
     ]
    }
   ],
   "source": [
    "# testing backpropagate\n",
    "z = 150 \n",
    "o = 180\n",
    "nn.backpropagate(o, z)\n",
    "print(nn.delta)\n"
   ]
  },
  {
   "cell_type": "code",
   "execution_count": 5,
   "metadata": {},
   "outputs": [
    {
     "name": "stdout",
     "output_type": "stream",
     "text": [
      "[array([0., 0., 0., 0.]), array([150., 150., 150., 150., 150., 150., 150., 150., 150.]), array([30., 30., 30., 30., 30.]), array([30.])]\n",
      "[array([1, 1, 1, 1]), array([4., 4., 4., 4., 4., 4., 4., 4., 4.]), array([36., 36., 36., 36., 36.]), array([180.])]\n",
      "[[150. 150. 150. 150.]\n",
      " [150. 150. 150. 150.]\n",
      " [150. 150. 150. 150.]\n",
      " [150. 150. 150. 150.]\n",
      " [150. 150. 150. 150.]\n",
      " [150. 150. 150. 150.]\n",
      " [150. 150. 150. 150.]\n",
      " [150. 150. 150. 150.]\n",
      " [150. 150. 150. 150.]]\n",
      "[array([[1.]]), array([[151., 151., 151., 151.],\n",
      "       [151., 151., 151., 151.],\n",
      "       [151., 151., 151., 151.],\n",
      "       [151., 151., 151., 151.],\n",
      "       [151., 151., 151., 151.],\n",
      "       [151., 151., 151., 151.],\n",
      "       [151., 151., 151., 151.],\n",
      "       [151., 151., 151., 151.],\n",
      "       [151., 151., 151., 151.]]), array([[121., 121., 121., 121., 121., 121., 121., 121., 121.],\n",
      "       [121., 121., 121., 121., 121., 121., 121., 121., 121.],\n",
      "       [121., 121., 121., 121., 121., 121., 121., 121., 121.],\n",
      "       [121., 121., 121., 121., 121., 121., 121., 121., 121.],\n",
      "       [121., 121., 121., 121., 121., 121., 121., 121., 121.]]), array([[1081., 1081., 1081., 1081., 1081.]])]\n"
     ]
    }
   ],
   "source": [
    "# testing update weights\n",
    "nn.eta = -1\n",
    "nn.alpha = 0\n",
    "\n",
    "# print(nn.d_w_prev)\n",
    "# print(nn.d_theta_prev)\n",
    "\n",
    "print(nn.delta)\n",
    "print(nn.xi)\n",
    "\n",
    "# print(nn.delta[1])\n",
    "# print(nn.xi[0])\n",
    "\n",
    "print(np.outer(nn.delta[1], nn.xi[0]))\n",
    "\n",
    "nn.update_weights()\n",
    "\n",
    "print(nn.w)\n",
    "\n",
    "\n"
   ]
  },
  {
   "cell_type": "code",
   "execution_count": 6,
   "metadata": {},
   "outputs": [
    {
     "name": "stdout",
     "output_type": "stream",
     "text": [
      "[ 4 10 18]\n",
      "32\n",
      "32\n",
      "[[1, 2, 3], [4, 5, 6]]\n",
      "[[7, 8, 9], [10, 11, 12]]\n",
      "[[ 7 16 27]\n",
      " [40 55 72]]\n",
      "[[ 7  8  9 10 11 12]\n",
      " [14 16 18 20 22 24]\n",
      " [21 24 27 30 33 36]\n",
      " [28 32 36 40 44 48]\n",
      " [35 40 45 50 55 60]\n",
      " [42 48 54 60 66 72]]\n",
      "[[1 2 3]\n",
      " [4 5 6]]\n",
      "[[0.82848628 0.34424859 0.79800944 0.69413527]\n",
      " [0.96340643 0.91089592 0.79662444 0.71045546]\n",
      " [0.83395341 0.3853429  0.69766325 0.58636388]]\n"
     ]
    }
   ],
   "source": [
    "# testing matrix operations\n",
    "import numpy as np\n",
    "a = [1,2,3] \n",
    "b = [4,5,6]\n",
    "\n",
    "# c = a * b\n",
    "# print(c)\n",
    "\n",
    "d = np.array(a) * np.array(b)\n",
    "print(d)\n",
    "\n",
    "e = np.dot(a,b)\n",
    "print(e)\n",
    "\n",
    "f = np.dot(np.array(a), np.array(b))\n",
    "print(f)\n",
    "\n",
    "g = [[1,2,3] , [4,5,6]]\n",
    "print(g)\n",
    "\n",
    "h = [[7,8,9] , [10,11,12] ]\n",
    "print(h)\n",
    "\n",
    "i = np.array(g) * np.array(h)\n",
    "print(i)\n",
    "\n",
    "# j = np.dot(g, h)\n",
    "# print(j)\n",
    "\n",
    "k = np.outer(np.array(g), np.array(h))\n",
    "print(k)\n",
    "\n",
    "print(np.array(g))\n",
    "\n",
    "print(np.random.random((3, 4)))\n",
    "\n"
   ]
  },
  {
   "cell_type": "code",
   "execution_count": 7,
   "metadata": {},
   "outputs": [
    {
     "name": "stdout",
     "output_type": "stream",
     "text": [
      "[array([[0.8722041]]), array([[0.01821479, 0.65269217, 0.33960138, 0.64607468],\n",
      "       [0.43902211, 0.16826261, 0.83530906, 0.30378434],\n",
      "       [0.21507333, 0.33662178, 0.71079248, 0.18084826],\n",
      "       [0.77385482, 0.17192225, 0.62697588, 0.63676965],\n",
      "       [0.86307598, 0.74618447, 0.3269116 , 0.71362697],\n",
      "       [0.91482211, 0.63532283, 0.1135989 , 0.47924953],\n",
      "       [0.96499987, 0.79362173, 0.23192668, 0.26733757],\n",
      "       [0.64292694, 0.59763073, 0.74017279, 0.17842181],\n",
      "       [0.46318299, 0.14638359, 0.2604946 , 0.43824437]]), array([[0.51921836, 0.95131822, 0.30465384, 0.27034125, 0.20503333,\n",
      "        0.00467456, 0.4345397 , 0.12778531, 0.97572699],\n",
      "       [0.23435806, 0.2690138 , 0.27831359, 0.95300453, 0.74202943,\n",
      "        0.63501941, 0.22947763, 0.23539384, 0.94932669],\n",
      "       [0.28498883, 0.27772116, 0.20051512, 0.6430314 , 0.27758333,\n",
      "        0.79436257, 0.51746816, 0.69652181, 0.54499599],\n",
      "       [0.57584082, 0.57831687, 0.27840622, 0.32913959, 0.71637885,\n",
      "        0.77272025, 0.53981579, 0.8304307 , 0.81697837],\n",
      "       [0.37500123, 0.9565867 , 0.22250026, 0.90701047, 0.51502547,\n",
      "        0.71833741, 0.24578822, 0.38435066, 0.42147956]]), array([[0.75722048, 0.50853524, 0.55229478, 0.92948948, 0.89099704]])]\n"
     ]
    }
   ],
   "source": [
    "#random weights\n",
    "\n",
    "nn = NeuralNetwork.MyNeuralNetwork(layers,  1, 0.01, 0.9, activation.linear, 0.2)\n",
    "nn.initialize_weights()\n",
    "print(nn.w)\n",
    "\n"
   ]
  }
 ],
 "metadata": {
  "kernelspec": {
   "display_name": "Python 3",
   "language": "python",
   "name": "python3"
  },
  "language_info": {
   "codemirror_mode": {
    "name": "ipython",
    "version": 3
   },
   "file_extension": ".py",
   "mimetype": "text/x-python",
   "name": "python",
   "nbconvert_exporter": "python",
   "pygments_lexer": "ipython3",
   "version": "3.10.10"
  }
 },
 "nbformat": 4,
 "nbformat_minor": 2
}
