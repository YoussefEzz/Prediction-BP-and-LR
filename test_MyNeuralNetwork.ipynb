{
 "cells": [
  {
   "cell_type": "code",
   "execution_count": 3,
   "metadata": {},
   "outputs": [
    {
     "name": "stdout",
     "output_type": "stream",
     "text": [
      "matrices of weights with random values\n",
      "[array([[0.58934215]]), array([[0.54983348, 0.97128304, 0.24013131, 0.82046452],\n",
      "       [0.33839943, 0.85339566, 0.46579217, 0.64533012],\n",
      "       [0.25991222, 0.53513653, 0.57903396, 0.95000085],\n",
      "       [0.55836317, 0.27754924, 0.3938204 , 0.12336952],\n",
      "       [0.8617237 , 0.6252125 , 0.24719642, 0.37975567],\n",
      "       [0.72719865, 0.32567929, 0.71973184, 0.05816404],\n",
      "       [0.5358124 , 0.79720838, 0.94997229, 0.96787674],\n",
      "       [0.3192139 , 0.83829911, 0.67362837, 0.07786306],\n",
      "       [0.63768137, 0.64816092, 0.91793076, 0.7423953 ]]), array([[0.32507885, 0.70550956, 0.76823849, 0.22131457, 0.68713609,\n",
      "        0.3984832 , 0.90246547, 0.10491402, 0.23523483],\n",
      "       [0.07652327, 0.11409267, 0.54900444, 0.08488514, 0.08745527,\n",
      "        0.15241817, 0.08792714, 0.79296101, 0.25147831],\n",
      "       [0.29913784, 0.98458313, 0.12937695, 0.45306413, 0.6120746 ,\n",
      "        0.55990211, 0.39876436, 0.12389714, 0.71927764],\n",
      "       [0.20689158, 0.09964339, 0.27678872, 0.52273244, 0.20505801,\n",
      "        0.87716117, 0.24922555, 0.48276098, 0.93736604],\n",
      "       [0.21036793, 0.98483357, 0.92538996, 0.25029516, 0.13316   ,\n",
      "        0.19039266, 0.82468211, 0.02434009, 0.54433822]]), array([[0.15841991, 0.53033202, 0.14155023, 0.30488761, 0.721126  ]])]\n",
      "matrices of weights \n",
      "[array([[1.]]), array([[1., 1., 1., 1.],\n",
      "       [1., 1., 1., 1.],\n",
      "       [1., 1., 1., 1.],\n",
      "       [1., 1., 1., 1.],\n",
      "       [1., 1., 1., 1.],\n",
      "       [1., 1., 1., 1.],\n",
      "       [1., 1., 1., 1.],\n",
      "       [1., 1., 1., 1.],\n",
      "       [1., 1., 1., 1.]]), array([[1., 1., 1., 1., 1., 1., 1., 1., 1.],\n",
      "       [1., 1., 1., 1., 1., 1., 1., 1., 1.],\n",
      "       [1., 1., 1., 1., 1., 1., 1., 1., 1.],\n",
      "       [1., 1., 1., 1., 1., 1., 1., 1., 1.],\n",
      "       [1., 1., 1., 1., 1., 1., 1., 1., 1.]]), array([[1., 1., 1., 1., 1.]])]\n",
      "matrix of weights between input layer and first hidden layer\n",
      "[[1. 1. 1. 1.]\n",
      " [1. 1. 1. 1.]\n",
      " [1. 1. 1. 1.]\n",
      " [1. 1. 1. 1.]\n",
      " [1. 1. 1. 1.]\n",
      " [1. 1. 1. 1.]\n",
      " [1. 1. 1. 1.]\n",
      " [1. 1. 1. 1.]\n",
      " [1. 1. 1. 1.]]\n",
      "weights between input layer and first neuron in first hidden layer\n",
      "[1. 1. 1. 1.]\n",
      "the weight between unit 3 in input layer and unit 0 in first hidden layer\n",
      "1.0\n",
      "each matrix of weights in a new line\n",
      "[[1.]]\n",
      "[[1. 1. 1. 1.]\n",
      " [1. 1. 1. 1.]\n",
      " [1. 1. 1. 1.]\n",
      " [1. 1. 1. 1.]\n",
      " [1. 1. 1. 1.]\n",
      " [1. 1. 1. 1.]\n",
      " [1. 1. 1. 1.]\n",
      " [1. 1. 1. 1.]\n",
      " [1. 1. 1. 1.]]\n",
      "[[1. 1. 1. 1. 1. 1. 1. 1. 1.]\n",
      " [1. 1. 1. 1. 1. 1. 1. 1. 1.]\n",
      " [1. 1. 1. 1. 1. 1. 1. 1. 1.]\n",
      " [1. 1. 1. 1. 1. 1. 1. 1. 1.]\n",
      " [1. 1. 1. 1. 1. 1. 1. 1. 1.]]\n",
      "[[1. 1. 1. 1. 1.]]\n"
     ]
    }
   ],
   "source": [
    "import MyNeuralNetwork as NeuralNetwork\n",
    "import activation_functions as activation\n",
    "\n",
    "# initiaize neural network\n",
    "\n",
    "# layers include input layer + hidden layers + output layer\n",
    "layers = [4,9,5,1]\n",
    "nn = NeuralNetwork.MyNeuralNetwork(layers,  1, 0.01, 0.9, activation.linear, 0.2)\n",
    "nn.initialize_weights()\n",
    "print(\"matrices of weights with random values\")\n",
    "print(nn.w)\n",
    "\n",
    "nn.initialize_weights_for_test()\n",
    "# matrices are initialized to ones for testing the implementation of neural network \n",
    "print(\"matrices of weights \")\n",
    "print(nn.w)\n",
    "\n",
    "print(\"matrix of weights between input layer and first hidden layer\")\n",
    "print(nn.w[1])\n",
    "\n",
    "print(\"weights between input layer and first neuron in first hidden layer\")\n",
    "print(nn.w[1][0])\n",
    "\n",
    "print(\"the weight between unit 3 in input layer and unit 0 in first hidden layer\")\n",
    "print(nn.w[1][0,3])\n",
    "\n",
    "print(\"each matrix of weights in a new line\")\n",
    "for item in nn.w:\n",
    "    print(item)"
   ]
  },
  {
   "cell_type": "code",
   "execution_count": 4,
   "metadata": {},
   "outputs": [
    {
     "name": "stdout",
     "output_type": "stream",
     "text": [
      "[180.]\n",
      "[array([1, 1, 1, 1]), array([4., 4., 4., 4., 4., 4., 4., 4., 4.]), array([36., 36., 36., 36., 36.]), array([180.])]\n",
      "[array([1, 1, 1, 1]), array([4., 4., 4., 4., 4., 4., 4., 4., 4.]), array([36., 36., 36., 36., 36.]), array([180.])]\n"
     ]
    }
   ],
   "source": [
    "# testing feedforward\n",
    "\n",
    "import numpy as np\n",
    "\n",
    "input = [1,1,1,1] \n",
    "o = nn.feedforward(np.array(input))\n",
    "\n",
    "print(o)\n",
    "\n",
    "print(nn.h)\n",
    "\n",
    "print(nn.xi)"
   ]
  },
  {
   "cell_type": "code",
   "execution_count": 5,
   "metadata": {},
   "outputs": [
    {
     "name": "stdout",
     "output_type": "stream",
     "text": [
      "[array([0., 0., 0., 0.]), array([150., 150., 150., 150., 150., 150., 150., 150., 150.]), array([30., 30., 30., 30., 30.]), array([30.])]\n"
     ]
    }
   ],
   "source": [
    "# testing backpropagate\n",
    "z = 150 \n",
    "o = 180\n",
    "nn.backpropagate(o, z)\n",
    "print(nn.delta)\n"
   ]
  },
  {
   "cell_type": "code",
   "execution_count": 6,
   "metadata": {},
   "outputs": [
    {
     "name": "stdout",
     "output_type": "stream",
     "text": [
      "[array([0., 0., 0., 0.]), array([150., 150., 150., 150., 150., 150., 150., 150., 150.]), array([30., 30., 30., 30., 30.]), array([30.])]\n",
      "[array([1, 1, 1, 1]), array([4., 4., 4., 4., 4., 4., 4., 4., 4.]), array([36., 36., 36., 36., 36.]), array([180.])]\n",
      "[[150. 150. 150. 150.]\n",
      " [150. 150. 150. 150.]\n",
      " [150. 150. 150. 150.]\n",
      " [150. 150. 150. 150.]\n",
      " [150. 150. 150. 150.]\n",
      " [150. 150. 150. 150.]\n",
      " [150. 150. 150. 150.]\n",
      " [150. 150. 150. 150.]\n",
      " [150. 150. 150. 150.]]\n",
      "[array([[1.]]), array([[151., 151., 151., 151.],\n",
      "       [151., 151., 151., 151.],\n",
      "       [151., 151., 151., 151.],\n",
      "       [151., 151., 151., 151.],\n",
      "       [151., 151., 151., 151.],\n",
      "       [151., 151., 151., 151.],\n",
      "       [151., 151., 151., 151.],\n",
      "       [151., 151., 151., 151.],\n",
      "       [151., 151., 151., 151.]]), array([[121., 121., 121., 121., 121., 121., 121., 121., 121.],\n",
      "       [121., 121., 121., 121., 121., 121., 121., 121., 121.],\n",
      "       [121., 121., 121., 121., 121., 121., 121., 121., 121.],\n",
      "       [121., 121., 121., 121., 121., 121., 121., 121., 121.],\n",
      "       [121., 121., 121., 121., 121., 121., 121., 121., 121.]]), array([[1081., 1081., 1081., 1081., 1081.]])]\n"
     ]
    }
   ],
   "source": [
    "# testing update weights\n",
    "nn.eta = -1\n",
    "nn.alpha = 0\n",
    "\n",
    "# print(nn.d_w_prev)\n",
    "# print(nn.d_theta_prev)\n",
    "\n",
    "print(nn.delta)\n",
    "print(nn.xi)\n",
    "\n",
    "# print(nn.delta[1])\n",
    "# print(nn.xi[0])\n",
    "\n",
    "print(np.outer(nn.delta[1], nn.xi[0]))\n",
    "\n",
    "nn.update_weights()\n",
    "\n",
    "print(nn.w)\n",
    "\n",
    "\n"
   ]
  },
  {
   "cell_type": "code",
   "execution_count": 7,
   "metadata": {},
   "outputs": [
    {
     "name": "stdout",
     "output_type": "stream",
     "text": [
      "[ 4 10 18]\n",
      "32\n",
      "32\n",
      "[[1, 2, 3], [4, 5, 6]]\n",
      "[[7, 8, 9], [10, 11, 12]]\n",
      "[[ 7 16 27]\n",
      " [40 55 72]]\n",
      "[[ 7  8  9 10 11 12]\n",
      " [14 16 18 20 22 24]\n",
      " [21 24 27 30 33 36]\n",
      " [28 32 36 40 44 48]\n",
      " [35 40 45 50 55 60]\n",
      " [42 48 54 60 66 72]]\n",
      "[[1 2 3]\n",
      " [4 5 6]]\n",
      "[[0.77137665 0.02137756 0.12551376 0.03900258]\n",
      " [0.36411522 0.09827614 0.56755283 0.36764027]\n",
      " [0.76078408 0.85985694 0.23500355 0.45698161]]\n"
     ]
    }
   ],
   "source": [
    "# testing matrix operations\n",
    "import numpy as np\n",
    "a = [1,2,3] \n",
    "b = [4,5,6]\n",
    "\n",
    "# c = a * b\n",
    "# print(c)\n",
    "\n",
    "d = np.array(a) * np.array(b)\n",
    "print(d)\n",
    "\n",
    "e = np.dot(a,b)\n",
    "print(e)\n",
    "\n",
    "f = np.dot(np.array(a), np.array(b))\n",
    "print(f)\n",
    "\n",
    "g = [[1,2,3] , [4,5,6]]\n",
    "print(g)\n",
    "\n",
    "h = [[7,8,9] , [10,11,12] ]\n",
    "print(h)\n",
    "\n",
    "i = np.array(g) * np.array(h)\n",
    "print(i)\n",
    "\n",
    "# j = np.dot(g, h)\n",
    "# print(j)\n",
    "\n",
    "k = np.outer(np.array(g), np.array(h))\n",
    "print(k)\n",
    "\n",
    "print(np.array(g))\n",
    "\n",
    "print(np.random.random((3, 4)))\n",
    "\n"
   ]
  },
  {
   "cell_type": "code",
   "execution_count": 8,
   "metadata": {},
   "outputs": [
    {
     "name": "stdout",
     "output_type": "stream",
     "text": [
      "[array([[0.08356488]]), array([[0.27158261, 0.24138491, 0.34508399, 0.56770411],\n",
      "       [0.47883523, 0.37056131, 0.13661269, 0.65542738],\n",
      "       [0.243915  , 0.94271404, 0.85736218, 0.75298847],\n",
      "       [0.12638259, 0.50121276, 0.90521385, 0.90087711],\n",
      "       [0.24551316, 0.58259801, 0.06830017, 0.26279189],\n",
      "       [0.74853776, 0.37670713, 0.67709069, 0.96219502],\n",
      "       [0.76460263, 0.64464601, 0.31925483, 0.62002453],\n",
      "       [0.70649962, 0.34356586, 0.91442429, 0.56475624],\n",
      "       [0.23827981, 0.64934151, 0.45456101, 0.59913825]]), array([[5.92124654e-01, 8.13947046e-01, 6.72881037e-01, 1.28493049e-03,\n",
      "        5.98677044e-01, 2.18910557e-01, 6.59409148e-01, 9.75368052e-01,\n",
      "        1.62631516e-01],\n",
      "       [8.89498387e-01, 3.60480436e-01, 4.06910626e-01, 8.73703213e-02,\n",
      "        4.24754518e-02, 6.97427840e-01, 9.38327993e-01, 2.78378579e-01,\n",
      "        1.83136284e-02],\n",
      "       [8.38826353e-01, 2.49113138e-01, 3.64471844e-01, 6.75589390e-01,\n",
      "        7.14583967e-01, 7.60183386e-01, 8.98575072e-01, 3.97412741e-01,\n",
      "        3.54188120e-01],\n",
      "       [9.67316962e-01, 4.07267480e-01, 8.08981092e-04, 9.37180242e-01,\n",
      "        2.51007192e-01, 3.19192856e-01, 3.18435413e-01, 5.18274471e-01,\n",
      "        9.15013463e-01],\n",
      "       [1.50153108e-02, 6.52849824e-01, 7.58296383e-01, 2.13739294e-01,\n",
      "        8.98670547e-01, 8.43557886e-01, 3.85539963e-01, 1.70314722e-01,\n",
      "        1.24928956e-01]]), array([[0.91268455, 0.89518442, 0.71305281, 0.98162225, 0.13870798]])]\n"
     ]
    }
   ],
   "source": [
    "#random weights\n",
    "\n",
    "nn = NeuralNetwork.MyNeuralNetwork(layers,  1, 0.01, 0.9, activation.linear, 0.2)\n",
    "nn.initialize_weights()\n",
    "print(nn.w)\n"
   ]
  }
 ],
 "metadata": {
  "kernelspec": {
   "display_name": "Python 3",
   "language": "python",
   "name": "python3"
  },
  "language_info": {
   "codemirror_mode": {
    "name": "ipython",
    "version": 3
   },
   "file_extension": ".py",
   "mimetype": "text/x-python",
   "name": "python",
   "nbconvert_exporter": "python",
   "pygments_lexer": "ipython3",
   "version": "3.10.10"
  }
 },
 "nbformat": 4,
 "nbformat_minor": 2
}
