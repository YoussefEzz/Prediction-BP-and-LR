{
 "cells": [
  {
   "cell_type": "code",
   "execution_count": 6,
   "metadata": {},
   "outputs": [
    {
     "name": "stdout",
     "output_type": "stream",
     "text": [
      "matrices of weights\n",
      "[array([[1.]]), array([[1., 1., 1., 1.],\n",
      "       [1., 1., 1., 1.],\n",
      "       [1., 1., 1., 1.],\n",
      "       [1., 1., 1., 1.],\n",
      "       [1., 1., 1., 1.],\n",
      "       [1., 1., 1., 1.],\n",
      "       [1., 1., 1., 1.],\n",
      "       [1., 1., 1., 1.],\n",
      "       [1., 1., 1., 1.]]), array([[1., 1., 1., 1., 1., 1., 1., 1., 1.],\n",
      "       [1., 1., 1., 1., 1., 1., 1., 1., 1.],\n",
      "       [1., 1., 1., 1., 1., 1., 1., 1., 1.],\n",
      "       [1., 1., 1., 1., 1., 1., 1., 1., 1.],\n",
      "       [1., 1., 1., 1., 1., 1., 1., 1., 1.]]), array([[1., 1., 1., 1., 1.]])]\n",
      "matrix of weights between input layer and first hidden layer\n",
      "[[1. 1. 1. 1.]\n",
      " [1. 1. 1. 1.]\n",
      " [1. 1. 1. 1.]\n",
      " [1. 1. 1. 1.]\n",
      " [1. 1. 1. 1.]\n",
      " [1. 1. 1. 1.]\n",
      " [1. 1. 1. 1.]\n",
      " [1. 1. 1. 1.]\n",
      " [1. 1. 1. 1.]]\n",
      "weights between input layer and first neuron in first hidden layer\n",
      "[1. 1. 1. 1.]\n",
      "the weight between unit 3 in input layer and unit 0 in first hidden layer\n",
      "1.0\n",
      "each matrix of weights in a new line\n",
      "[[1.]]\n",
      "[[1. 1. 1. 1.]\n",
      " [1. 1. 1. 1.]\n",
      " [1. 1. 1. 1.]\n",
      " [1. 1. 1. 1.]\n",
      " [1. 1. 1. 1.]\n",
      " [1. 1. 1. 1.]\n",
      " [1. 1. 1. 1.]\n",
      " [1. 1. 1. 1.]\n",
      " [1. 1. 1. 1.]]\n",
      "[[1. 1. 1. 1. 1. 1. 1. 1. 1.]\n",
      " [1. 1. 1. 1. 1. 1. 1. 1. 1.]\n",
      " [1. 1. 1. 1. 1. 1. 1. 1. 1.]\n",
      " [1. 1. 1. 1. 1. 1. 1. 1. 1.]\n",
      " [1. 1. 1. 1. 1. 1. 1. 1. 1.]]\n",
      "[[1. 1. 1. 1. 1.]]\n"
     ]
    }
   ],
   "source": [
    "import MyNeuralNetwork as NeuralNetwork\n",
    "import activation_functions as activation\n",
    "\n",
    "# initiaize neural network\n",
    "\n",
    "# layers include input layer + hidden layers + output layer\n",
    "layers = [4,9,5,1]\n",
    "nn = NeuralNetwork.MyNeuralNetwork(layers,  1, 0.01, 0.9, activation.linear, 0.2)\n",
    "nn.initialize_weights_for_test()\n",
    "# matrices are initialized to ones for testing the implementation of neural network \n",
    "print(\"matrices of weights\")\n",
    "print(nn.w)\n",
    "\n",
    "print(\"matrix of weights between input layer and first hidden layer\")\n",
    "print(nn.w[1])\n",
    "\n",
    "print(\"weights between input layer and first neuron in first hidden layer\")\n",
    "print(nn.w[1][0])\n",
    "\n",
    "print(\"the weight between unit 3 in input layer and unit 0 in first hidden layer\")\n",
    "print(nn.w[1][0,3])\n",
    "\n",
    "print(\"each matrix of weights in a new line\")\n",
    "for item in nn.w:\n",
    "    print(item)"
   ]
  },
  {
   "cell_type": "code",
   "execution_count": 7,
   "metadata": {},
   "outputs": [
    {
     "name": "stdout",
     "output_type": "stream",
     "text": [
      "[180.]\n",
      "[array([1, 1, 1, 1]), array([4., 4., 4., 4., 4., 4., 4., 4., 4.]), array([36., 36., 36., 36., 36.]), array([180.])]\n",
      "[array([1, 1, 1, 1]), array([4., 4., 4., 4., 4., 4., 4., 4., 4.]), array([36., 36., 36., 36., 36.]), array([180.])]\n"
     ]
    }
   ],
   "source": [
    "# testing feedforward\n",
    "\n",
    "import numpy as np\n",
    "\n",
    "input = [1,1,1,1] \n",
    "o = nn.feedforward(np.array(input))\n",
    "\n",
    "print(o)\n",
    "\n",
    "print(nn.h)\n",
    "\n",
    "print(nn.xi)"
   ]
  },
  {
   "cell_type": "code",
   "execution_count": 8,
   "metadata": {},
   "outputs": [
    {
     "name": "stdout",
     "output_type": "stream",
     "text": [
      "[array([0., 0., 0., 0.]), array([150., 150., 150., 150., 150., 150., 150., 150., 150.]), array([30., 30., 30., 30., 30.]), array([30.])]\n"
     ]
    }
   ],
   "source": [
    "# testing backpropagate\n",
    "z = 150 \n",
    "o = 180\n",
    "nn.backpropagate(o, z)\n",
    "print(nn.delta)\n"
   ]
  },
  {
   "cell_type": "code",
   "execution_count": 9,
   "metadata": {},
   "outputs": [
    {
     "name": "stdout",
     "output_type": "stream",
     "text": [
      "[array([0., 0., 0., 0.]), array([150., 150., 150., 150., 150., 150., 150., 150., 150.]), array([30., 30., 30., 30., 30.]), array([30.])]\n",
      "[array([1, 1, 1, 1]), array([4., 4., 4., 4., 4., 4., 4., 4., 4.]), array([36., 36., 36., 36., 36.]), array([180.])]\n",
      "[[150. 150. 150. 150.]\n",
      " [150. 150. 150. 150.]\n",
      " [150. 150. 150. 150.]\n",
      " [150. 150. 150. 150.]\n",
      " [150. 150. 150. 150.]\n",
      " [150. 150. 150. 150.]\n",
      " [150. 150. 150. 150.]\n",
      " [150. 150. 150. 150.]\n",
      " [150. 150. 150. 150.]]\n",
      "[array([[1.]]), array([[151., 151., 151., 151.],\n",
      "       [151., 151., 151., 151.],\n",
      "       [151., 151., 151., 151.],\n",
      "       [151., 151., 151., 151.],\n",
      "       [151., 151., 151., 151.],\n",
      "       [151., 151., 151., 151.],\n",
      "       [151., 151., 151., 151.],\n",
      "       [151., 151., 151., 151.],\n",
      "       [151., 151., 151., 151.]]), array([[121., 121., 121., 121., 121., 121., 121., 121., 121.],\n",
      "       [121., 121., 121., 121., 121., 121., 121., 121., 121.],\n",
      "       [121., 121., 121., 121., 121., 121., 121., 121., 121.],\n",
      "       [121., 121., 121., 121., 121., 121., 121., 121., 121.],\n",
      "       [121., 121., 121., 121., 121., 121., 121., 121., 121.]]), array([[1081., 1081., 1081., 1081., 1081.]])]\n"
     ]
    }
   ],
   "source": [
    "# testing update weights\n",
    "nn.eta = -1\n",
    "nn.alpha = 0\n",
    "\n",
    "# print(nn.d_w_prev)\n",
    "# print(nn.d_theta_prev)\n",
    "\n",
    "print(nn.delta)\n",
    "print(nn.xi)\n",
    "\n",
    "# print(nn.delta[1])\n",
    "# print(nn.xi[0])\n",
    "\n",
    "print(np.outer(nn.delta[1], nn.xi[0]))\n",
    "\n",
    "nn.update_weights()\n",
    "\n",
    "print(nn.w)\n",
    "\n",
    "\n"
   ]
  },
  {
   "cell_type": "code",
   "execution_count": 10,
   "metadata": {},
   "outputs": [
    {
     "name": "stdout",
     "output_type": "stream",
     "text": [
      "[ 4 10 18]\n",
      "32\n",
      "32\n",
      "[[1, 2, 3], [4, 5, 6]]\n",
      "[[7, 8, 9], [10, 11, 12]]\n",
      "[[ 7 16 27]\n",
      " [40 55 72]]\n",
      "[[ 7  8  9 10 11 12]\n",
      " [14 16 18 20 22 24]\n",
      " [21 24 27 30 33 36]\n",
      " [28 32 36 40 44 48]\n",
      " [35 40 45 50 55 60]\n",
      " [42 48 54 60 66 72]]\n",
      "[[1 2 3]\n",
      " [4 5 6]]\n",
      "[[0.02901771 0.85926345 0.38306975 0.32323069]\n",
      " [0.41677254 0.0745552  0.71884782 0.66441822]\n",
      " [0.1162503  0.0498288  0.10375576 0.46301049]]\n"
     ]
    }
   ],
   "source": [
    "# testing matrix operations\n",
    "import numpy as np\n",
    "a = [1,2,3] \n",
    "b = [4,5,6]\n",
    "\n",
    "# c = a * b\n",
    "# print(c)\n",
    "\n",
    "d = np.array(a) * np.array(b)\n",
    "print(d)\n",
    "\n",
    "e = np.dot(a,b)\n",
    "print(e)\n",
    "\n",
    "f = np.dot(np.array(a), np.array(b))\n",
    "print(f)\n",
    "\n",
    "g = [[1,2,3] , [4,5,6]]\n",
    "print(g)\n",
    "\n",
    "h = [[7,8,9] , [10,11,12] ]\n",
    "print(h)\n",
    "\n",
    "i = np.array(g) * np.array(h)\n",
    "print(i)\n",
    "\n",
    "# j = np.dot(g, h)\n",
    "# print(j)\n",
    "\n",
    "k = np.outer(np.array(g), np.array(h))\n",
    "print(k)\n",
    "\n",
    "print(np.array(g))\n",
    "\n",
    "print(np.random.random((3, 4)))"
   ]
  }
 ],
 "metadata": {
  "kernelspec": {
   "display_name": "Python 3",
   "language": "python",
   "name": "python3"
  },
  "language_info": {
   "codemirror_mode": {
    "name": "ipython",
    "version": 3
   },
   "file_extension": ".py",
   "mimetype": "text/x-python",
   "name": "python",
   "nbconvert_exporter": "python",
   "pygments_lexer": "ipython3",
   "version": "3.10.10"
  }
 },
 "nbformat": 4,
 "nbformat_minor": 2
}
