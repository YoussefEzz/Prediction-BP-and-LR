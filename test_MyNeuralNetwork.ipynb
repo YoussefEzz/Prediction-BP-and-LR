{
 "cells": [
  {
   "cell_type": "code",
   "execution_count": 16,
   "metadata": {},
   "outputs": [
    {
     "name": "stdout",
     "output_type": "stream",
     "text": [
      "matrices of weights with random values\n",
      "[array([[0.50152525]]), array([[0.81871425, 0.8715117 , 0.96494655, 0.20479833],\n",
      "       [0.35552204, 0.91635349, 0.17616507, 0.90153204],\n",
      "       [0.9147812 , 0.39611932, 0.51493443, 0.49636553],\n",
      "       [0.7526923 , 0.47667156, 0.17591448, 0.92757758],\n",
      "       [0.91223916, 0.19405441, 0.42991691, 0.15990381],\n",
      "       [0.50180471, 0.05304676, 0.61685568, 0.76138127],\n",
      "       [0.83517682, 0.12271492, 0.55412232, 0.08660055],\n",
      "       [0.38352343, 0.74012736, 0.43348879, 0.77590567],\n",
      "       [0.83437953, 0.24524865, 0.97335625, 0.01437532]]), array([[0.30957727, 0.82018877, 0.31656457, 0.21634555, 0.6531189 ,\n",
      "        0.50593969, 0.78926121, 0.609888  , 0.08074946],\n",
      "       [0.12150394, 0.96370798, 0.45818689, 0.70960697, 0.41699574,\n",
      "        0.67063073, 0.77226864, 0.34949508, 0.84621954],\n",
      "       [0.24437089, 0.56466056, 0.0569883 , 0.76664953, 0.38918448,\n",
      "        0.50948579, 0.88640669, 0.33886575, 0.60317968],\n",
      "       [0.75829548, 0.15879394, 0.12069662, 0.27131571, 0.10070983,\n",
      "        0.70996712, 0.13107228, 0.92527788, 0.79225131],\n",
      "       [0.2700995 , 0.88665168, 0.15535663, 0.22004808, 0.35863844,\n",
      "        0.6251969 , 0.31262234, 0.55530919, 0.47808228]]), array([[0.1852116 , 0.04478563, 0.50351287, 0.06112867, 0.03991441]])]\n",
      "matrices of weights \n",
      "[array([[1.]]), array([[1., 1., 1., 1.],\n",
      "       [1., 1., 1., 1.],\n",
      "       [1., 1., 1., 1.],\n",
      "       [1., 1., 1., 1.],\n",
      "       [1., 1., 1., 1.],\n",
      "       [1., 1., 1., 1.],\n",
      "       [1., 1., 1., 1.],\n",
      "       [1., 1., 1., 1.],\n",
      "       [1., 1., 1., 1.]]), array([[1., 1., 1., 1., 1., 1., 1., 1., 1.],\n",
      "       [1., 1., 1., 1., 1., 1., 1., 1., 1.],\n",
      "       [1., 1., 1., 1., 1., 1., 1., 1., 1.],\n",
      "       [1., 1., 1., 1., 1., 1., 1., 1., 1.],\n",
      "       [1., 1., 1., 1., 1., 1., 1., 1., 1.]]), array([[1., 1., 1., 1., 1.]])]\n",
      "matrix of weights between input layer and first hidden layer\n",
      "[[1. 1. 1. 1.]\n",
      " [1. 1. 1. 1.]\n",
      " [1. 1. 1. 1.]\n",
      " [1. 1. 1. 1.]\n",
      " [1. 1. 1. 1.]\n",
      " [1. 1. 1. 1.]\n",
      " [1. 1. 1. 1.]\n",
      " [1. 1. 1. 1.]\n",
      " [1. 1. 1. 1.]]\n",
      "weights between input layer and first neuron in first hidden layer\n",
      "[1. 1. 1. 1.]\n",
      "the weight between unit 3 in input layer and unit 0 in first hidden layer\n",
      "1.0\n",
      "each matrix of weights in a new line\n",
      "[[1.]]\n",
      "[[1. 1. 1. 1.]\n",
      " [1. 1. 1. 1.]\n",
      " [1. 1. 1. 1.]\n",
      " [1. 1. 1. 1.]\n",
      " [1. 1. 1. 1.]\n",
      " [1. 1. 1. 1.]\n",
      " [1. 1. 1. 1.]\n",
      " [1. 1. 1. 1.]\n",
      " [1. 1. 1. 1.]]\n",
      "[[1. 1. 1. 1. 1. 1. 1. 1. 1.]\n",
      " [1. 1. 1. 1. 1. 1. 1. 1. 1.]\n",
      " [1. 1. 1. 1. 1. 1. 1. 1. 1.]\n",
      " [1. 1. 1. 1. 1. 1. 1. 1. 1.]\n",
      " [1. 1. 1. 1. 1. 1. 1. 1. 1.]]\n",
      "[[1. 1. 1. 1. 1.]]\n"
     ]
    }
   ],
   "source": [
    "import MyNeuralNetwork as NeuralNetwork\n",
    "import activation_functions as activation\n",
    "\n",
    "# initiaize neural network\n",
    "\n",
    "# layers include input layer + hidden layers + output layer\n",
    "layers = [4,9,5,1]\n",
    "nn = NeuralNetwork.MyNeuralNetwork(layers,  1, 0.01, 0.9, activation.linear, 0.2)\n",
    "nn.initialize_weights()\n",
    "print(\"matrices of weights with random values\")\n",
    "print(nn.w)\n",
    "\n",
    "nn.initialize_weights_for_test()\n",
    "# matrices are initialized to ones for testing the BP implementation of neural network \n",
    "print(\"matrices of weights \")\n",
    "print(nn.w)\n",
    "\n",
    "print(\"matrix of weights between input layer and first hidden layer\")\n",
    "print(nn.w[1])\n",
    "\n",
    "print(\"weights between input layer and first neuron in first hidden layer\")\n",
    "print(nn.w[1][0])\n",
    "\n",
    "print(\"the weight between unit 3 in input layer and unit 0 in first hidden layer\")\n",
    "print(nn.w[1][0,3])\n",
    "\n",
    "print(\"each matrix of weights in a new line\")\n",
    "for item in nn.w:\n",
    "    print(item)"
   ]
  },
  {
   "cell_type": "code",
   "execution_count": 17,
   "metadata": {},
   "outputs": [
    {
     "name": "stdout",
     "output_type": "stream",
     "text": [
      "[180.]\n",
      "[array([1, 1, 1, 1]), array([4., 4., 4., 4., 4., 4., 4., 4., 4.]), array([36., 36., 36., 36., 36.]), array([180.])]\n",
      "[array([1, 1, 1, 1]), array([4., 4., 4., 4., 4., 4., 4., 4., 4.]), array([36., 36., 36., 36., 36.]), array([180.])]\n"
     ]
    }
   ],
   "source": [
    "# testing feedforward\n",
    "\n",
    "import numpy as np\n",
    "\n",
    "input = [1,1,1,1] \n",
    "o = nn.feedforward(np.array(input))\n",
    "\n",
    "print(o)\n",
    "\n",
    "print(nn.h)\n",
    "\n",
    "print(nn.xi)"
   ]
  },
  {
   "cell_type": "code",
   "execution_count": 19,
   "metadata": {},
   "outputs": [
    {
     "name": "stdout",
     "output_type": "stream",
     "text": [
      "[array([1, 1, 1, 1]), array([4., 4., 4., 4., 4., 4., 4., 4., 4.]), array([36., 36., 36., 36., 36.]), array([180.])]\n",
      "[array([[1.]]), array([[1., 1., 1., 1.],\n",
      "       [1., 1., 1., 1.],\n",
      "       [1., 1., 1., 1.],\n",
      "       [1., 1., 1., 1.],\n",
      "       [1., 1., 1., 1.],\n",
      "       [1., 1., 1., 1.],\n",
      "       [1., 1., 1., 1.],\n",
      "       [1., 1., 1., 1.],\n",
      "       [1., 1., 1., 1.]]), array([[1., 1., 1., 1., 1., 1., 1., 1., 1.],\n",
      "       [1., 1., 1., 1., 1., 1., 1., 1., 1.],\n",
      "       [1., 1., 1., 1., 1., 1., 1., 1., 1.],\n",
      "       [1., 1., 1., 1., 1., 1., 1., 1., 1.],\n",
      "       [1., 1., 1., 1., 1., 1., 1., 1., 1.]]), array([[1., 1., 1., 1., 1.]])]\n",
      "[array([0., 0., 0., 0.]), array([150., 150., 150., 150., 150., 150., 150., 150., 150.]), array([30., 30., 30., 30., 30.]), array([30.])]\n"
     ]
    }
   ],
   "source": [
    "# testing backpropagate\n",
    "print(nn.h)\n",
    "print(nn.w)\n",
    "z = 150 \n",
    "o = 180\n",
    "nn.backpropagate(o, z)\n",
    "print(nn.delta)\n"
   ]
  },
  {
   "cell_type": "code",
   "execution_count": 12,
   "metadata": {},
   "outputs": [
    {
     "name": "stdout",
     "output_type": "stream",
     "text": [
      "[array([0., 0., 0., 0.]), array([150., 150., 150., 150., 150., 150., 150., 150., 150.]), array([30., 30., 30., 30., 30.]), array([30.])]\n",
      "[array([1, 1, 1, 1]), array([4., 4., 4., 4., 4., 4., 4., 4., 4.]), array([36., 36., 36., 36., 36.]), array([180.])]\n",
      "[[150. 150. 150. 150.]\n",
      " [150. 150. 150. 150.]\n",
      " [150. 150. 150. 150.]\n",
      " [150. 150. 150. 150.]\n",
      " [150. 150. 150. 150.]\n",
      " [150. 150. 150. 150.]\n",
      " [150. 150. 150. 150.]\n",
      " [150. 150. 150. 150.]\n",
      " [150. 150. 150. 150.]]\n",
      "[array([[1.]]), array([[151., 151., 151., 151.],\n",
      "       [151., 151., 151., 151.],\n",
      "       [151., 151., 151., 151.],\n",
      "       [151., 151., 151., 151.],\n",
      "       [151., 151., 151., 151.],\n",
      "       [151., 151., 151., 151.],\n",
      "       [151., 151., 151., 151.],\n",
      "       [151., 151., 151., 151.],\n",
      "       [151., 151., 151., 151.]]), array([[121., 121., 121., 121., 121., 121., 121., 121., 121.],\n",
      "       [121., 121., 121., 121., 121., 121., 121., 121., 121.],\n",
      "       [121., 121., 121., 121., 121., 121., 121., 121., 121.],\n",
      "       [121., 121., 121., 121., 121., 121., 121., 121., 121.],\n",
      "       [121., 121., 121., 121., 121., 121., 121., 121., 121.]]), array([[1081., 1081., 1081., 1081., 1081.]])]\n"
     ]
    }
   ],
   "source": [
    "# testing update weights\n",
    "nn.eta = -1\n",
    "nn.alpha = 0\n",
    "\n",
    "# print(nn.d_w_prev)\n",
    "# print(nn.d_theta_prev)\n",
    "\n",
    "print(nn.delta)\n",
    "print(nn.xi)\n",
    "\n",
    "# print(nn.delta[1])\n",
    "# print(nn.xi[0])\n",
    "\n",
    "print(np.outer(nn.delta[1], nn.xi[0]))\n",
    "\n",
    "nn.update_weights()\n",
    "\n",
    "print(nn.w)\n",
    "\n",
    "\n"
   ]
  },
  {
   "cell_type": "code",
   "execution_count": 13,
   "metadata": {},
   "outputs": [
    {
     "name": "stdout",
     "output_type": "stream",
     "text": [
      "[ 4 10 18]\n",
      "32\n",
      "32\n",
      "[[1, 2, 3], [4, 5, 6]]\n",
      "[[7, 8, 9], [10, 11, 12]]\n",
      "[[ 7 16 27]\n",
      " [40 55 72]]\n",
      "[[ 7  8  9 10 11 12]\n",
      " [14 16 18 20 22 24]\n",
      " [21 24 27 30 33 36]\n",
      " [28 32 36 40 44 48]\n",
      " [35 40 45 50 55 60]\n",
      " [42 48 54 60 66 72]]\n",
      "[[1 2 3]\n",
      " [4 5 6]]\n",
      "[[0.39878021 0.45630808 0.09284275 0.6123864 ]\n",
      " [0.25343111 0.98661152 0.92175714 0.87143413]\n",
      " [0.9444051  0.4178791  0.5176061  0.62488104]]\n"
     ]
    }
   ],
   "source": [
    "# testing matrix operations\n",
    "import numpy as np\n",
    "a = [1,2,3] \n",
    "b = [4,5,6]\n",
    "\n",
    "# c = a * b\n",
    "# print(c)\n",
    "\n",
    "d = np.array(a) * np.array(b)\n",
    "print(d)\n",
    "\n",
    "e = np.dot(a,b)\n",
    "print(e)\n",
    "\n",
    "f = np.dot(np.array(a), np.array(b))\n",
    "print(f)\n",
    "\n",
    "g = [[1,2,3] , [4,5,6]]\n",
    "print(g)\n",
    "\n",
    "h = [[7,8,9] , [10,11,12] ]\n",
    "print(h)\n",
    "\n",
    "i = np.array(g) * np.array(h)\n",
    "print(i)\n",
    "\n",
    "# j = np.dot(g, h)\n",
    "# print(j)\n",
    "\n",
    "k = np.outer(np.array(g), np.array(h))\n",
    "print(k)\n",
    "\n",
    "print(np.array(g))\n",
    "\n",
    "print(np.random.random((3, 4)))\n",
    "\n"
   ]
  },
  {
   "cell_type": "code",
   "execution_count": 14,
   "metadata": {},
   "outputs": [
    {
     "name": "stdout",
     "output_type": "stream",
     "text": [
      "[array([[0.80053365]]), array([[0.38082102, 0.80646714, 0.28011449, 0.20954672],\n",
      "       [0.51026099, 0.67766125, 0.77505771, 0.19341928],\n",
      "       [0.49555899, 0.62105568, 0.26004972, 0.36723419],\n",
      "       [0.38269062, 0.38670775, 0.31771072, 0.15802731],\n",
      "       [0.06820879, 0.03773428, 0.72401191, 0.06487724],\n",
      "       [0.49282259, 0.17899633, 0.75471828, 0.28315142],\n",
      "       [0.87305032, 0.73539097, 0.73912679, 0.93288824],\n",
      "       [0.6031046 , 0.65680859, 0.81229627, 0.17218296],\n",
      "       [0.86984118, 0.04635437, 0.5433734 , 0.55359295]]), array([[0.50132759, 0.76884137, 0.11371394, 0.03558936, 0.39770582,\n",
      "        0.33917462, 0.64570701, 0.73887063, 0.50254738],\n",
      "       [0.14010943, 0.33553267, 0.35733196, 0.85649699, 0.76762628,\n",
      "        0.1393163 , 0.93855955, 0.33931542, 0.61171203],\n",
      "       [0.78080425, 0.04696913, 0.17726882, 0.85553582, 0.57838229,\n",
      "        0.53174956, 0.79372174, 0.70817942, 0.69462584],\n",
      "       [0.56929594, 0.99015863, 0.44094644, 0.19535415, 0.49976824,\n",
      "        0.58256861, 0.67426471, 0.27753129, 0.04630625],\n",
      "       [0.82821356, 0.04602648, 0.60655817, 0.52446808, 0.47935868,\n",
      "        0.82233771, 0.03062592, 0.04656033, 0.07265854]]), array([[0.77656683, 0.60823902, 0.83037116, 0.30895594, 0.31917713]])]\n"
     ]
    }
   ],
   "source": [
    "#random weights\n",
    "\n",
    "nn = NeuralNetwork.MyNeuralNetwork(layers,  1, 0.01, 0.9, activation.linear, 0.2)\n",
    "nn.initialize_weights()\n",
    "print(nn.w)\n",
    "\n"
   ]
  }
 ],
 "metadata": {
  "kernelspec": {
   "display_name": "Python 3",
   "language": "python",
   "name": "python3"
  },
  "language_info": {
   "codemirror_mode": {
    "name": "ipython",
    "version": 3
   },
   "file_extension": ".py",
   "mimetype": "text/x-python",
   "name": "python",
   "nbconvert_exporter": "python",
   "pygments_lexer": "ipython3",
   "version": "3.10.10"
  }
 },
 "nbformat": 4,
 "nbformat_minor": 2
}
