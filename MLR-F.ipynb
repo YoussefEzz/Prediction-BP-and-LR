{
 "cells": [
  {
   "cell_type": "code",
   "execution_count": 1,
   "metadata": {},
   "outputs": [
    {
     "data": {
      "text/html": [
       "<div>\n",
       "<style scoped>\n",
       "    .dataframe tbody tr th:only-of-type {\n",
       "        vertical-align: middle;\n",
       "    }\n",
       "\n",
       "    .dataframe tbody tr th {\n",
       "        vertical-align: top;\n",
       "    }\n",
       "\n",
       "    .dataframe thead th {\n",
       "        text-align: right;\n",
       "    }\n",
       "</style>\n",
       "<table border=\"1\" class=\"dataframe\">\n",
       "  <thead>\n",
       "    <tr style=\"text-align: right;\">\n",
       "      <th></th>\n",
       "      <th>#height_over_sea_level</th>\n",
       "      <th>fall</th>\n",
       "      <th>net_fall</th>\n",
       "      <th>flow</th>\n",
       "      <th>power_of_hydroelectrical_turbine</th>\n",
       "    </tr>\n",
       "  </thead>\n",
       "  <tbody>\n",
       "    <tr>\n",
       "      <th>0</th>\n",
       "      <td>0.8462</td>\n",
       "      <td>0.8212</td>\n",
       "      <td>0.8488</td>\n",
       "      <td>0.0833</td>\n",
       "      <td>0.1500</td>\n",
       "    </tr>\n",
       "    <tr>\n",
       "      <th>1</th>\n",
       "      <td>0.9487</td>\n",
       "      <td>0.9226</td>\n",
       "      <td>0.9468</td>\n",
       "      <td>0.0833</td>\n",
       "      <td>0.1627</td>\n",
       "    </tr>\n",
       "    <tr>\n",
       "      <th>2</th>\n",
       "      <td>0.2821</td>\n",
       "      <td>0.2803</td>\n",
       "      <td>0.2764</td>\n",
       "      <td>0.5833</td>\n",
       "      <td>0.3712</td>\n",
       "    </tr>\n",
       "    <tr>\n",
       "      <th>3</th>\n",
       "      <td>0.2051</td>\n",
       "      <td>0.2042</td>\n",
       "      <td>0.2028</td>\n",
       "      <td>0.5833</td>\n",
       "      <td>0.3304</td>\n",
       "    </tr>\n",
       "    <tr>\n",
       "      <th>4</th>\n",
       "      <td>1.0000</td>\n",
       "      <td>0.9614</td>\n",
       "      <td>0.9413</td>\n",
       "      <td>0.8333</td>\n",
       "      <td>0.8948</td>\n",
       "    </tr>\n",
       "  </tbody>\n",
       "</table>\n",
       "</div>"
      ],
      "text/plain": [
       "   #height_over_sea_level    fall  net_fall    flow  \\\n",
       "0                  0.8462  0.8212    0.8488  0.0833   \n",
       "1                  0.9487  0.9226    0.9468  0.0833   \n",
       "2                  0.2821  0.2803    0.2764  0.5833   \n",
       "3                  0.2051  0.2042    0.2028  0.5833   \n",
       "4                  1.0000  0.9614    0.9413  0.8333   \n",
       "\n",
       "   power_of_hydroelectrical_turbine  \n",
       "0                            0.1500  \n",
       "1                            0.1627  \n",
       "2                            0.3712  \n",
       "3                            0.3304  \n",
       "4                            0.8948  "
      ]
     },
     "execution_count": 1,
     "metadata": {},
     "output_type": "execute_result"
    }
   ],
   "source": [
    "import pandas as pd\n",
    "\n",
    "\n",
    "#read and parse the .csv features file for A1-turbine normalized data\n",
    "df = pd.read_csv('Normalized Data/A1-turbine_normalized.txt', delimiter = '\\t')\n",
    "df.head()\n"
   ]
  },
  {
   "cell_type": "code",
   "execution_count": 2,
   "metadata": {},
   "outputs": [
    {
     "name": "stdout",
     "output_type": "stream",
     "text": [
      "(451, 4)\n",
      "(451,)\n"
     ]
    }
   ],
   "source": [
    "columns = df.shape[1]\n",
    "\n",
    "# construct an array of arrays size (451, 4) for all features input values\n",
    "inputcolumns = df.columns[0 : 4]\n",
    "features = df[inputcolumns].values\n",
    "\n",
    "# construct an array of size (451) for all features target values\n",
    "outputcolumn = df.columns[4]\n",
    "targets = df[outputcolumn].values\n",
    "\n",
    "print(features.shape)\n",
    "print(targets.shape)"
   ]
  },
  {
   "cell_type": "code",
   "execution_count": 3,
   "metadata": {},
   "outputs": [
    {
     "name": "stdout",
     "output_type": "stream",
     "text": [
      "(383, 4)\n",
      "(68, 4)\n",
      "(383,)\n",
      "(68,)\n"
     ]
    }
   ],
   "source": [
    "from sklearn.model_selection import train_test_split\n",
    "x_train, x_test, y_train, y_test = train_test_split(features, targets, test_size = 0.15, random_state= 42)\n",
    "\n",
    "print(x_train.shape)\n",
    "print(x_test.shape)\n",
    "print(y_train.shape)\n",
    "print(y_test.shape)"
   ]
  },
  {
   "cell_type": "code",
   "execution_count": 7,
   "metadata": {},
   "outputs": [
    {
     "name": "stdout",
     "output_type": "stream",
     "text": [
      "0.9730547067948092\n",
      "R2 score:  0.9694377472778436\n",
      "MSE:  0.0017224217079641476\n",
      "MAE:  0.027046650065034858\n",
      "R2 score:  0.9730547067948092\n",
      "MSE:  0.001701367327808995\n",
      "MAE:  0.03212196088329469\n"
     ]
    }
   ],
   "source": [
    "from sklearn.linear_model import LinearRegression\n",
    "\n",
    "reg = LinearRegression().fit(x_train, y_train)\n",
    "score = reg.score(x_train, y_train)\n",
    "print(score)\n",
    "\n",
    "y_pred_test = reg.predict(x_test)\n",
    "y_pred_train = reg.predict(x_train)\n",
    "#print(y_pred_test)\n",
    "\n",
    "from sklearn.metrics import r2_score, mean_squared_error, mean_absolute_error\n",
    "\n",
    "print(\"R2 score: \", r2_score(y_test, y_pred_test))\n",
    "print(\"MSE: \", mean_squared_error(y_test, y_pred_test))\n",
    "print(\"MAE: \", mean_absolute_error(y_test, y_pred_test))\n",
    "\n",
    "print(\"R2 score: \", r2_score(y_train, y_pred_train))\n",
    "print(\"MSE: \", mean_squared_error(y_train, y_pred_train))\n",
    "print(\"MAE: \", mean_absolute_error(y_train, y_pred_train))"
   ]
  },
  {
   "cell_type": "code",
   "execution_count": 8,
   "metadata": {},
   "outputs": [
    {
     "data": {
      "text/plain": [
       "<matplotlib.collections.PathCollection at 0x2896fdc07c0>"
      ]
     },
     "execution_count": 8,
     "metadata": {},
     "output_type": "execute_result"
    },
    {
     "data": {
      "image/png": "[encoded data removed]",
      "text/plain": [
       "<Figure size 640x480 with 1 Axes>"
      ]
     },
     "metadata": {},
     "output_type": "display_data"
    }
   ],
   "source": [
    "# scatterplot of predicted vs actual values\n",
    "from matplotlib import pyplot as plt\n",
    "plt.scatter(y_test, y_pred_test, color = 'red')\n",
    "plt.scatter(y_train, y_pred_train, color = 'blue')"
   ]
  }
 ],
 "metadata": {
  "kernelspec": {
   "display_name": "Python 3",
   "language": "python",
   "name": "python3"
  },
  "language_info": {
   "codemirror_mode": {
    "name": "ipython",
    "version": 3
   },
   "file_extension": ".py",
   "mimetype": "text/x-python",
   "name": "python",
   "nbconvert_exporter": "python",
   "pygments_lexer": "ipython3",
   "version": "3.10.10"
  }
 },
 "nbformat": 4,
 "nbformat_minor": 2
}
